{
 "cells": [
  {
   "cell_type": "markdown",
   "metadata": {},
   "source": [
    "## Import Necessary Libraries"
   ]
  },
  {
   "cell_type": "code",
   "execution_count": null,
   "metadata": {},
   "outputs": [],
   "source": [
    "import pandas as pd\n",
    "import os\n",
    "\n",
    "import model_metrics\n",
    "\n",
    "print(model_metrics.__version__)\n",
    "\n",
    "from model_tuner import loadObjects\n",
    "\n",
    "from ucimlrepo import fetch_ucirepo\n",
    "from eda_toolkit import ensure_directory\n",
    "from model_metrics import (\n",
    "    summarize_model_performance,\n",
    "    show_calibration_curve,\n",
    "    show_confusion_matrix,\n",
    "    show_roc_curve,\n",
    "    show_pr_curve,\n",
    "    show_lift_chart,\n",
    "    show_gain_chart,\n",
    "    plot_threshold_metrics,\n",
    ")"
   ]
  },
  {
   "cell_type": "markdown",
   "metadata": {},
   "source": [
    "## Set Model Path"
   ]
  },
  {
   "cell_type": "code",
   "execution_count": null,
   "metadata": {},
   "outputs": [],
   "source": [
    "print(f\"Model Metrics version: {model_metrics.__version__}\")\n",
    "print(f\"Model Metrics authors: {model_metrics.__author__} \\n\")\n",
    "\n",
    "## Define base paths\n",
    "## `base_path`` represents the parent directory of your current working directory\n",
    "base_path = os.path.join(os.pardir)\n",
    "## Go up one level from 'notebooks' to the parent directory, then into the\n",
    "## 'results' folder\n",
    "\n",
    "model_path = os.path.join(os.pardir, \"model_files/results\")\n",
    "data_path = os.path.join(os.pardir, \"model_files\")\n",
    "image_path_png = os.path.join(data_path, \"images\", \"png_images\")\n",
    "image_path_svg = os.path.join(data_path, \"images\", \"svg_images\")\n",
    "\n",
    "# Use the function to ensure the 'data' directory exists\n",
    "ensure_directory(model_path)\n",
    "ensure_directory(image_path_png)\n",
    "ensure_directory(image_path_svg)"
   ]
  },
  {
   "cell_type": "code",
   "execution_count": null,
   "metadata": {},
   "outputs": [],
   "source": [
    "from sklearn.datasets import make_classification\n",
    "from sklearn.linear_model import LogisticRegression\n",
    "from sklearn.ensemble import RandomForestClassifier\n",
    "from sklearn.model_selection import train_test_split\n",
    "\n",
    "# Generate a synthetic dataset\n",
    "X, y = make_classification(\n",
    "    n_samples=1000,\n",
    "    n_features=10,\n",
    "    random_state=42,\n",
    ")\n",
    "\n",
    "# Split into training and testing sets\n",
    "X_train, X_test, y_train, y_test = train_test_split(\n",
    "    X,\n",
    "    y,\n",
    "    test_size=0.2,\n",
    "    random_state=42,\n",
    ")\n",
    "\n",
    "# Train models\n",
    "model1 = LogisticRegression(random_state=3).fit(X_train, y_train)\n",
    "model2 = RandomForestClassifier(random_state=3).fit(X_train, y_train)\n",
    "\n",
    "model_titles = [\"Logistic Regression\", \"Random Forest\"]"
   ]
  },
  {
   "cell_type": "code",
   "execution_count": null,
   "metadata": {},
   "outputs": [],
   "source": [
    "# Plot ROC curves\n",
    "show_roc_curve(\n",
    "    model=[model1, model2],\n",
    "    X=X_test,\n",
    "    y=y_test,\n",
    "    model_title=model_titles,\n",
    "    decimal_places=2,\n",
    "    n_cols=2,\n",
    "    n_rows=1,\n",
    "    curve_kwgs={\n",
    "        \"Logistic Regression\": {\"color\": \"blue\", \"linewidth\": 2},\n",
    "        \"Random Forest\": {\"color\": \"black\", \"linewidth\": 2},\n",
    "    },\n",
    "    linestyle_kwgs={\"color\": \"red\", \"linestyle\": \"--\"},\n",
    "    save_plot=True,\n",
    "    subplots=True,\n",
    "    figsize=(12, 6),\n",
    "    label_fontsize=16,\n",
    "    tick_fontsize=14,\n",
    "    image_path_png=image_path_png,\n",
    "    image_path_svg=image_path_svg,\n",
    ")"
   ]
  },
  {
   "cell_type": "code",
   "execution_count": null,
   "metadata": {},
   "outputs": [],
   "source": [
    "# Plot ROC curves\n",
    "show_roc_curve(\n",
    "    model=[model1, model2],\n",
    "    X=X_test,\n",
    "    y=y_test,\n",
    "    model_title=model_titles,\n",
    "    decimal_places=2,\n",
    "    n_cols=2,\n",
    "    n_rows=1,\n",
    "    curve_kwgs={\n",
    "        \"Logistic Regression\": {\"color\": \"blue\", \"linewidth\": 2},\n",
    "        \"Random Forest\": {\"color\": \"black\", \"linewidth\": 2},\n",
    "    },\n",
    "    linestyle_kwgs={\"color\": \"red\", \"linestyle\": \"--\"},\n",
    "    title=\"ROC Curves: Logistic Regression and Random Forest\",\n",
    "    save_plot=True,\n",
    "    overlay=True,\n",
    "    figsize=(14, 10),\n",
    "    label_fontsize=16,\n",
    "    tick_fontsize=14,\n",
    "    image_path_png=image_path_png,\n",
    "    image_path_svg=image_path_svg,\n",
    ")"
   ]
  },
  {
   "cell_type": "code",
   "execution_count": null,
   "metadata": {},
   "outputs": [],
   "source": [
    "show_pr_curve(\n",
    "    model=[model1, model2],\n",
    "    X=X_test,\n",
    "    y=y_test,\n",
    "    # x_label=\"Hello\",\n",
    "    model_title=model_titles,\n",
    "    decimal_places=3,\n",
    "    curve_kwgs={\n",
    "        \"Logistic Regression\": {\"color\": \"blue\", \"linewidth\": 2},\n",
    "        \"Random Forest\": {\"color\": \"black\", \"linewidth\": 2},\n",
    "    },\n",
    "    overlay=False,\n",
    "    n_cols=2,\n",
    "    n_rows=1,\n",
    "    subplots=True,\n",
    "    save_plot=True,\n",
    "    figsize=(12, 6),\n",
    "    label_fontsize=16,\n",
    "    tick_fontsize=14,\n",
    "    image_path_png=image_path_png,\n",
    "    image_path_svg=image_path_svg,\n",
    ")"
   ]
  },
  {
   "cell_type": "code",
   "execution_count": null,
   "metadata": {},
   "outputs": [],
   "source": [
    "# Plot ROC curves\n",
    "show_pr_curve(\n",
    "    model=[model1, model2],\n",
    "    X=X_test,\n",
    "    y=y_test,\n",
    "    model_title=model_titles,\n",
    "    decimal_places=2,\n",
    "    curve_kwgs={\n",
    "        \"Logistic Regression\": {\"color\": \"blue\", \"linewidth\": 2},\n",
    "        \"Random Forest\": {\"color\": \"black\", \"linewidth\": 2},\n",
    "    },\n",
    "    title=\"Precision-Recall Curves: Logistic Regression and Random Forest\",\n",
    "    save_plot=True,\n",
    "    overlay=True,\n",
    "    figsize=(14, 10),\n",
    "    label_fontsize=16,\n",
    "    tick_fontsize=14,\n",
    "    image_path_png=image_path_png,\n",
    "    image_path_svg=image_path_svg,\n",
    "    # legend_metric=\"aucpr\",\n",
    ")"
   ]
  },
  {
   "cell_type": "markdown",
   "metadata": {},
   "source": [
    "## Lift Chart"
   ]
  },
  {
   "cell_type": "code",
   "execution_count": null,
   "metadata": {},
   "outputs": [],
   "source": [
    "# Plot Lift chart\n",
    "show_lift_chart(\n",
    "    model=[model1, model2],\n",
    "    X=X_test,\n",
    "    y=y_test,\n",
    "    overlay=False,\n",
    "    model_title=model_titles,\n",
    "    save_plot=True,\n",
    "    linestyle_kwgs={\"color\": \"red\", \"linestyle\": \"--\", \"linewidth\": 2},\n",
    "    curve_kwgs={\n",
    "        \"Logistic Regression\": {\"color\": \"blue\", \"linewidth\": 2},\n",
    "        \"Random Forest\": {\"color\": \"black\", \"linewidth\": 2},\n",
    "    },\n",
    "    subplots=True,\n",
    "    figsize=(12, 6),\n",
    "    label_fontsize=16,\n",
    "    tick_fontsize=14,\n",
    "    image_path_png=image_path_png,\n",
    "    image_path_svg=image_path_svg,\n",
    ")"
   ]
  },
  {
   "cell_type": "code",
   "execution_count": null,
   "metadata": {},
   "outputs": [],
   "source": [
    "# Plot Lift chart\n",
    "show_lift_chart(\n",
    "    model=[model1, model2],\n",
    "    X=X_test,\n",
    "    y=y_test,\n",
    "    overlay=True,\n",
    "    model_title=[\"Logistic Regression\", \"Random Forest\"],\n",
    "    linestyle_kwgs={\"color\": \"red\", \"linestyle\": \"--\", \"linewidth\": 2},\n",
    "    curve_kwgs={\n",
    "        \"Logistic Regression\": {\"color\": \"blue\", \"linewidth\": 2},\n",
    "        \"Random Forest\": {\"color\": \"black\", \"linewidth\": 2},\n",
    "    },\n",
    "    figsize=(14, 10),\n",
    "    label_fontsize=16,\n",
    "    tick_fontsize=14,\n",
    "    save_plot=True,\n",
    "    image_path_png=image_path_png,\n",
    "    image_path_svg=image_path_svg,\n",
    ")"
   ]
  },
  {
   "cell_type": "markdown",
   "metadata": {},
   "source": [
    "## Gain Chart"
   ]
  },
  {
   "cell_type": "code",
   "execution_count": null,
   "metadata": {},
   "outputs": [],
   "source": [
    "show_gain_chart(\n",
    "    model=[model1, model2],\n",
    "    X=X_test,\n",
    "    y=y_test,\n",
    "    model_title=[\"Logistic Regression\", \"Random Forest\"],\n",
    "    linestyle_kwgs={\"color\": \"red\", \"linestyle\": \"--\"},\n",
    "    curve_kwgs={\n",
    "        \"Logistic Regression\": {\"color\": \"blue\", \"linewidth\": 2},\n",
    "        \"Random Forest\": {\"color\": \"black\", \"linewidth\": 2},\n",
    "    },\n",
    "    subplots=True,\n",
    "    save_plot=True,\n",
    "    figsize=(12, 6),\n",
    "    label_fontsize=16,\n",
    "    tick_fontsize=14,\n",
    "    image_path_png=image_path_png,\n",
    "    image_path_svg=image_path_svg,\n",
    ")"
   ]
  },
  {
   "cell_type": "code",
   "execution_count": null,
   "metadata": {},
   "outputs": [],
   "source": [
    "# Plot Lift chart\n",
    "show_gain_chart(\n",
    "    model=[model1, model2],\n",
    "    X=X_test,\n",
    "    y=y_test,\n",
    "    overlay=True,\n",
    "    model_title=[\"Logistic Regression\", \"Random Forest\"],\n",
    "    linestyle_kwgs={\"color\": \"red\", \"linestyle\": \"--\", \"linewidth\": 2},\n",
    "    curve_kwgs={\n",
    "        \"Logistic Regression\": {\"color\": \"blue\", \"linewidth\": 2},\n",
    "        \"Random Forest\": {\"color\": \"black\", \"linewidth\": 2},\n",
    "    },\n",
    "    figsize=(14, 10),\n",
    "    label_fontsize=16,\n",
    "    tick_fontsize=14,\n",
    "    save_plot=True,\n",
    "    image_path_png=image_path_png,\n",
    "    image_path_svg=image_path_svg,\n",
    ")"
   ]
  },
  {
   "cell_type": "code",
   "execution_count": null,
   "metadata": {},
   "outputs": [],
   "source": [
    "show_confusion_matrix(\n",
    "    model=[model1, model2],\n",
    "    X=X_test,\n",
    "    y=y_test,\n",
    "    model_title=model_titles,\n",
    "    # cmap=\"viridis\",\n",
    "    text_wrap=40,\n",
    "    # title=\"Custom\",\n",
    "    save_plot=True,\n",
    "    image_path_png=image_path_png,\n",
    "    image_path_svg=image_path_svg,\n",
    "    grid=True,\n",
    "    n_cols=2,\n",
    "    n_rows=1,\n",
    "    figsize=(6, 6),\n",
    "    show_colorbar=False,\n",
    "    label_fontsize=16,\n",
    "    tick_fontsize=12,\n",
    "    inner_fontsize=14,\n",
    "    class_report=True,\n",
    "    custom_threshold=0.37,\n",
    "    # custom_threshold=0.5,\n",
    "    # labels=False,\n",
    ")"
   ]
  },
  {
   "cell_type": "code",
   "execution_count": null,
   "metadata": {},
   "outputs": [],
   "source": [
    "show_confusion_matrix(\n",
    "    model=[model1, model2],\n",
    "    X=X_test,\n",
    "    y=y_test,\n",
    "    model_title=model_titles,\n",
    "    cmap=\"Blues\",\n",
    "    text_wrap=40,\n",
    "    # title=\"Custom\",\n",
    "    save_plot=True,\n",
    "    image_path_png=image_path_png,\n",
    "    image_path_svg=image_path_svg,\n",
    "    subplots=True,\n",
    "    n_cols=2,\n",
    "    n_rows=1,\n",
    "    figsize=(6, 6),\n",
    "    show_colorbar=False,\n",
    "    label_fontsize=16,\n",
    "    tick_fontsize=12,\n",
    "    inner_fontsize=14,\n",
    "    class_report=True,\n",
    "    # custom_threshold=0.5,\n",
    "    labels=False,\n",
    ")"
   ]
  },
  {
   "cell_type": "markdown",
   "metadata": {},
   "source": [
    "## UCI Census Income Dataset"
   ]
  },
  {
   "cell_type": "markdown",
   "metadata": {},
   "source": [
    "## Load The Model Object and Test Data"
   ]
  },
  {
   "cell_type": "code",
   "execution_count": null,
   "metadata": {},
   "outputs": [],
   "source": [
    "adult = fetch_ucirepo(id=2)\n",
    "\n",
    "# data (as pandas dataframes)\n",
    "X = adult.data.features"
   ]
  },
  {
   "cell_type": "code",
   "execution_count": null,
   "metadata": {},
   "outputs": [],
   "source": [
    "X.to_csv(os.path.join(data_path, \"X.csv\"))"
   ]
  },
  {
   "cell_type": "code",
   "execution_count": null,
   "metadata": {},
   "outputs": [],
   "source": [
    "model_lr = loadObjects(os.path.join(model_path, \"LogisticRegression.pkl\"))\n",
    "model_dt = loadObjects(os.path.join(model_path, \"DecisionTreeClassifier.pkl\"))\n",
    "model_rf = loadObjects(os.path.join(model_path, \"RandomForestClassifier.pkl\"))\n",
    "\n",
    "\n",
    "X_test = pd.read_parquet(os.path.join(data_path, \"X_test.parquet\"))\n",
    "y_test = pd.read_parquet(os.path.join(data_path, \"y_test.parquet\"))"
   ]
  },
  {
   "cell_type": "code",
   "execution_count": null,
   "metadata": {},
   "outputs": [],
   "source": [
    "X_test_2 = X_test.join(\n",
    "    X[[\"sex\", \"race\", \"relationship\", \"occupation\", \"workclass\", \"education\"]]\n",
    ")"
   ]
  },
  {
   "cell_type": "code",
   "execution_count": null,
   "metadata": {},
   "outputs": [],
   "source": [
    "X_test_2"
   ]
  },
  {
   "cell_type": "markdown",
   "metadata": {},
   "source": [
    "## Set The Desired Naming Conventions"
   ]
  },
  {
   "cell_type": "code",
   "execution_count": null,
   "metadata": {},
   "outputs": [],
   "source": [
    "pipelines_or_models = [\n",
    "    model_lr[\"model\"].estimator,\n",
    "    model_rf[\"model\"].estimator,\n",
    "    model_dt[\"model\"].estimator,\n",
    "]\n",
    "\n",
    "# Model titles\n",
    "model_titles = [\n",
    "    \"Logistic Regression\",\n",
    "    \"Random Forest Classifier\",\n",
    "    \"Decision Tree Classifier\",\n",
    "]"
   ]
  },
  {
   "cell_type": "markdown",
   "metadata": {},
   "source": [
    "## ROC AUC Curves"
   ]
  },
  {
   "cell_type": "code",
   "execution_count": null,
   "metadata": {},
   "outputs": [],
   "source": [
    "model_titles = [\n",
    "    \"Logistic Regression\",\n",
    "    \"Decision Tree Classifier\",\n",
    "    \"Random Forest Classifier\",\n",
    "]"
   ]
  },
  {
   "cell_type": "code",
   "execution_count": null,
   "metadata": {},
   "outputs": [],
   "source": [
    "# Plot ROC curves\n",
    "show_roc_curve(\n",
    "    model=pipelines_or_models,\n",
    "    X=X_test,\n",
    "    y=y_test,\n",
    "    model_title=model_titles,\n",
    "    decimal_places=2,\n",
    "    n_cols=3,\n",
    "    n_rows=1,\n",
    "    # curve_kwgs={\n",
    "    #     \"Logistic Regression\": {\"color\": \"blue\", \"linewidth\": 2},\n",
    "    # },\n",
    "    linestyle_kwgs={\"color\": \"red\", \"linestyle\": \"--\"},\n",
    "    save_plot=True,\n",
    "    subplots=True,\n",
    "    text_wrap=20,\n",
    "    figsize=(12, 4),\n",
    "    label_fontsize=16,\n",
    "    tick_fontsize=14,\n",
    "    image_path_png=image_path_png,\n",
    "    image_path_svg=image_path_svg,\n",
    ")"
   ]
  },
  {
   "cell_type": "code",
   "execution_count": null,
   "metadata": {},
   "outputs": [],
   "source": [
    "# Plot ROC curves\n",
    "show_roc_curve(\n",
    "    # model=[model_dt[\"model\"].estimator],\n",
    "    model=pipelines_or_models,\n",
    "    X=X_test,\n",
    "    y=y_test,\n",
    "    overlay=True,\n",
    "    # title=\"Custom\",\n",
    "    # title = \"\",\n",
    "    title=None,\n",
    "    model_title=model_titles,\n",
    "    decimal_places=2,\n",
    "    # n_cols=3,\n",
    "    # n_rows=1,\n",
    "    # curve_kwgs={\n",
    "    #     \"Logistic Regression\": {\"color\": \"blue\", \"linewidth\": 2},\n",
    "    # },\n",
    "    # linestyle_kwgs={\"color\": \"grey\", \"linestyle\": \"--\"},\n",
    "    save_plot=True,\n",
    "    # grid=True,\n",
    "    figsize=(11, 6),\n",
    "    # label_fontsize=16,\n",
    "    # tick_fontsize=16,\n",
    "    image_path_png=image_path_png,\n",
    "    image_path_svg=image_path_svg,\n",
    "    # gridlines=False,\n",
    "    # group_category=X_test_2[\"race\"],\n",
    ")"
   ]
  },
  {
   "cell_type": "code",
   "execution_count": null,
   "metadata": {},
   "outputs": [],
   "source": [
    "# Plot ROC curves\n",
    "show_roc_curve(\n",
    "    model=pipelines_or_models,\n",
    "    X=X_test,\n",
    "    y=y_test,\n",
    "    # overlay=True,\n",
    "    # title=\"Custom\",\n",
    "    # title = \"\",\n",
    "    title=None,\n",
    "    model_title=model_titles,\n",
    "    decimal_places=2,\n",
    "    n_cols=3,\n",
    "    # n_rows=1,\n",
    "    # curve_kwgs={\n",
    "    #     \"Logistic Regression\": {\"color\": \"blue\", \"linewidth\": 2},\n",
    "    # },\n",
    "    # linestyle_kwgs={\"color\": \"grey\", \"linestyle\": \"--\"},\n",
    "    save_plot=True,\n",
    "    # grid=True,\n",
    "    figsize=(10, 6),\n",
    "    # label_fontsize=16,\n",
    "    # tick_fontsize=16,\n",
    "    image_path_png=image_path_png,\n",
    "    image_path_svg=image_path_svg,\n",
    "    # gridlines=False,\n",
    "    group_category=X_test_2[\"race\"],\n",
    ")"
   ]
  },
  {
   "cell_type": "code",
   "execution_count": null,
   "metadata": {},
   "outputs": [],
   "source": [
    "# Plot ROC curves\n",
    "show_pr_curve(\n",
    "    model=pipelines_or_models,\n",
    "    X=X_test,\n",
    "    y=y_test,\n",
    "    overlay=False,\n",
    "    # title=\"Custom\",\n",
    "    # title = \"\",\n",
    "    title=None,\n",
    "    model_title=model_titles,\n",
    "    decimal_places=2,\n",
    "    n_cols=3,\n",
    "    # n_rows=1,\n",
    "    # curve_kwgs={\n",
    "    #     \"Logistic Regression\": {\"color\": \"blue\", \"linewidth\": 2},\n",
    "    # },\n",
    "    # linestyle_kwgs={\"color\": \"grey\", \"linestyle\": \"--\"},\n",
    "    save_plot=True,\n",
    "    subplots=False,\n",
    "    # figsize=(8, 8),\n",
    "    # label_fontsize=16,\n",
    "    # tick_fontsize=16,\n",
    "    image_path_png=image_path_png,\n",
    "    image_path_svg=image_path_svg,\n",
    "    # gridlines=False,\n",
    "    group_category=X_test_2[\"race\"],\n",
    "    legend_metric=\"aucpr\",\n",
    ")"
   ]
  },
  {
   "cell_type": "markdown",
   "metadata": {},
   "source": [
    "## Summarize Model Performance"
   ]
  },
  {
   "cell_type": "code",
   "execution_count": null,
   "metadata": {},
   "outputs": [],
   "source": [
    "model_summary = summarize_model_performance(\n",
    "    model=pipelines_or_models,\n",
    "    X=X_test,\n",
    "    y=y_test,\n",
    "    model_title=model_titles,\n",
    "    # model_threshold=thresholds,\n",
    "    return_df=True,\n",
    "    # decimal_places=6,\n",
    "    # custom_threshold=0.7,\n",
    ")\n",
    "\n",
    "model_summary"
   ]
  },
  {
   "cell_type": "code",
   "execution_count": null,
   "metadata": {},
   "outputs": [],
   "source": [
    "model_titles"
   ]
  },
  {
   "cell_type": "code",
   "execution_count": null,
   "metadata": {},
   "outputs": [],
   "source": [
    "model_titles[1]"
   ]
  },
  {
   "cell_type": "markdown",
   "metadata": {},
   "source": [
    "## Plot The Calibration Curve"
   ]
  },
  {
   "cell_type": "code",
   "execution_count": null,
   "metadata": {},
   "outputs": [],
   "source": [
    "# Plot calibration curves in overlay mode\n",
    "show_calibration_curve(\n",
    "    model=pipelines_or_models[:2],\n",
    "    X=X_test,\n",
    "    y=y_test,\n",
    "    model_title=model_titles[:2],\n",
    "    text_wrap=50,\n",
    "    figsize=(12, 6),\n",
    "    label_fontsize=16,\n",
    "    tick_fontsize=13,\n",
    "    bins=10,\n",
    "    show_brier_score=True,\n",
    "    subplots=True,\n",
    "    linestyle_kwgs={\"color\": \"black\", \"linewidth\": 2},\n",
    "    # title=\"\",\n",
    "    save_plot=True,\n",
    "    image_path_png=image_path_png,\n",
    "    image_path_svg=image_path_svg,\n",
    ")"
   ]
  },
  {
   "cell_type": "code",
   "execution_count": null,
   "metadata": {},
   "outputs": [],
   "source": [
    "# Plot calibration curves in overlay mode\n",
    "show_calibration_curve(\n",
    "    # model=pipelines_or_models[2],\n",
    "    model=pipelines_or_models,\n",
    "    X=X_test,\n",
    "    y=y_test,\n",
    "    model_title=model_titles,\n",
    "    # model_title=model_titles[2],\n",
    "    overlay=True,\n",
    "    text_wrap=50,\n",
    "    figsize=(14, 10),\n",
    "    label_fontsize=16,\n",
    "    tick_fontsize=13,\n",
    "    bins=10,\n",
    "    show_brier_score=True,\n",
    "    linestyle_kwgs={\"color\": \"black\", \"linewidth\": 2},\n",
    "    # curve_kwgs={\n",
    "    #     \"Logistic Regression\": {\"color\": \"blue\", \"linewidth\": 2},\n",
    "    #     \"Decision Tree\": {\"color\": \"blue\", \"linewidth\": 2},\n",
    "    #     \"Random Forest\": {\"color\": \"blue\", \"linewidth\": 2},\n",
    "    # },\n",
    "    curve_kwgs={title: {\"linewidth\": 2} for title in model_titles},\n",
    "    save_plot=True,\n",
    "    image_path_png=image_path_png,\n",
    "    image_path_svg=image_path_svg,\n",
    "    # title=\"\",\n",
    ")"
   ]
  },
  {
   "cell_type": "code",
   "execution_count": null,
   "metadata": {},
   "outputs": [],
   "source": [
    "X_test_2"
   ]
  },
  {
   "cell_type": "code",
   "execution_count": null,
   "metadata": {},
   "outputs": [],
   "source": [
    "# Plot calibration curves in overlay mode\n",
    "show_calibration_curve(\n",
    "    model=pipelines_or_models[2],\n",
    "    X=X_test,\n",
    "    y=y_test,\n",
    "    model_title=model_titles[2],\n",
    "    figsize=(14, 10),\n",
    "    label_fontsize=16,\n",
    "    tick_fontsize=13,\n",
    "    bins=10,\n",
    "    show_brier_score=True,\n",
    "    linestyle_kwgs={\"color\": \"black\"},\n",
    "    curve_kwgs={title: {\"linewidth\": 2} for title in model_titles},\n",
    "    group_category=X_test_2[\"race\"],\n",
    "    save_plot=True,\n",
    "    image_path_png=image_path_png,\n",
    "    image_path_svg=image_path_svg,\n",
    ")"
   ]
  },
  {
   "cell_type": "markdown",
   "metadata": {},
   "source": [
    "## Plot The Confusion Matrix"
   ]
  },
  {
   "cell_type": "code",
   "execution_count": null,
   "metadata": {},
   "outputs": [],
   "source": [
    "show_confusion_matrix(\n",
    "    model=pipelines_or_models,\n",
    "    X=X_test,\n",
    "    y=y_test,\n",
    "    model_titles=model_titles,\n",
    "    cmap=\"Blues\",\n",
    "    text_wrap=40,\n",
    "    # title=\"Custom\",\n",
    "    save_plot=True,\n",
    "    image_path_png=image_path_png,\n",
    "    image_path_svg=image_path_svg,\n",
    "    grid=True,\n",
    "    n_cols=3,\n",
    "    n_rows=1,\n",
    "    figsize=(4, 4),\n",
    "    show_colorbar=False,\n",
    "    label_fontsize=14,\n",
    "    tick_fontsize=12,\n",
    "    inner_fontsize=10,\n",
    "    class_report=True,\n",
    "    # custom_threshold=0.5,\n",
    "    # labels=False,\n",
    ")"
   ]
  },
  {
   "cell_type": "markdown",
   "metadata": {},
   "source": [
    "## Plot ROC AUC Curve"
   ]
  },
  {
   "cell_type": "code",
   "execution_count": null,
   "metadata": {},
   "outputs": [],
   "source": [
    "# Plot ROC curves\n",
    "show_roc_curve(\n",
    "    model=pipelines_or_models,\n",
    "    X=X_test,\n",
    "    y=y_test,\n",
    "    overlay=False,\n",
    "    # title=\"Custom\",\n",
    "    title=None,\n",
    "    model_title=model_titles,\n",
    "    decimal_places=6,\n",
    "    n_cols=3,\n",
    "    # n_rows=1,\n",
    "    # curve_kwgs={\n",
    "    #     \"Logistic Regression\": {\"color\": \"blue\", \"linewidth\": 2},\n",
    "    #     \"SVM\": {\"color\": \"red\", \"linestyle\": \"--\", \"linewidth\": 1.5},\n",
    "    # },\n",
    "    # linestyle_kwgs={\"color\": \"grey\", \"linestyle\": \"--\"},\n",
    "    save_plot=True,\n",
    "    subplots=False,\n",
    "    # figsize=(8, 6),\n",
    "    # label_fontsize=16,\n",
    "    # tick_fontsize=16,\n",
    "    image_path_png=image_path_png,\n",
    "    image_path_svg=image_path_svg,\n",
    "    # gridlines=False,\n",
    "    group_category=X_test_2[\"race\"],\n",
    ")"
   ]
  },
  {
   "cell_type": "code",
   "execution_count": null,
   "metadata": {},
   "outputs": [],
   "source": [
    "# Plot ROC curves\n",
    "show_pr_curve(\n",
    "    model=pipelines_or_models,\n",
    "    X=X_test,\n",
    "    y=y_test,\n",
    "    overlay=False,\n",
    "    # title=\"Custom\",\n",
    "    title=None,\n",
    "    model_title=model_titles,\n",
    "    decimal_places=3,\n",
    "    n_cols=3,\n",
    "    # n_rows=1,\n",
    "    # curve_kwgs={\n",
    "    #     \"Logistic Regression\": {\"color\": \"blue\", \"linewidth\": 2},\n",
    "    #     \"SVM\": {\"color\": \"red\", \"linestyle\": \"--\", \"linewidth\": 1.5},\n",
    "    # },\n",
    "    # linestyle_kwgs={\"color\": \"grey\", \"linestyle\": \"--\"},\n",
    "    save_plot=True,\n",
    "    subplots=False,\n",
    "    # figsize=(10, 10),\n",
    "    # label_fontsize=16,\n",
    "    # tick_fontsize=16,\n",
    "    image_path_png=image_path_png,\n",
    "    image_path_svg=image_path_svg,\n",
    "    # gridlines=False,\n",
    "    group_category=X_test_2[\"race\"],\n",
    ")"
   ]
  },
  {
   "cell_type": "code",
   "execution_count": null,
   "metadata": {},
   "outputs": [],
   "source": [
    "X_test.columns.to_list()"
   ]
  },
  {
   "cell_type": "markdown",
   "metadata": {},
   "source": [
    "## Precision-Recall Curve"
   ]
  },
  {
   "cell_type": "code",
   "execution_count": null,
   "metadata": {},
   "outputs": [],
   "source": [
    "model_summary = summarize_model_performance(\n",
    "    model=pipelines_or_models[0],\n",
    "    X=X_test,\n",
    "    y=y_test,\n",
    "    model_title=model_titles,\n",
    "    # model_threshold=thresholds,\n",
    "    return_df=True,\n",
    "    custom_threshold=0.7811,\n",
    ")\n",
    "\n",
    "model_summary"
   ]
  },
  {
   "cell_type": "code",
   "execution_count": null,
   "metadata": {},
   "outputs": [],
   "source": [
    "# Example usage with a trained model\n",
    "plot_threshold_metrics(\n",
    "    pipelines_or_models[0],\n",
    "    X_test,\n",
    "    y_test,\n",
    "    # figsize=(6, 6),\n",
    "    # gridlines=False,\n",
    "    baseline_thresh=False,\n",
    "    baseline_kwgs={\n",
    "        \"color\": \"purple\",\n",
    "        \"linestyle\": \"--\",\n",
    "        # \"alpha\": 0.7,\n",
    "        \"linewidth\": 1,\n",
    "    },\n",
    "    curve_kwgs={\n",
    "        \"linestyle\": \"-\",\n",
    "        # \"alpha\": 0.1,\n",
    "        \"linewidth\": 1.25,\n",
    "    },\n",
    "    lookup_metric=\"precision\",\n",
    "    lookup_value=0.879,\n",
    "    # title=\"Threshold Metrics for Model X\",\n",
    "    # decimal_places=2,\n",
    "    # label_fontsize=10,\n",
    "    # tick_fontsize=8,\n",
    ")"
   ]
  }
 ],
 "metadata": {
  "kernelspec": {
   "display_name": "metrics_venv",
   "language": "python",
   "name": "python3"
  },
  "language_info": {
   "codemirror_mode": {
    "name": "ipython",
    "version": 3
   },
   "file_extension": ".py",
   "mimetype": "text/x-python",
   "name": "python",
   "nbconvert_exporter": "python",
   "pygments_lexer": "ipython3",
   "version": "3.11.11"
  }
 },
 "nbformat": 4,
 "nbformat_minor": 2
}
