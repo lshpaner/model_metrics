{
 "cells": [
  {
   "cell_type": "markdown",
   "id": "0",
   "metadata": {},
   "source": [
    "## Plot 2D Partial Dependence"
   ]
  },
  {
   "cell_type": "code",
   "execution_count": null,
   "id": "1",
   "metadata": {},
   "outputs": [],
   "source": [
    "from sklearn.datasets import fetch_california_housing\n",
    "from sklearn.model_selection import train_test_split\n",
    "from sklearn.ensemble import GradientBoostingRegressor\n",
    "import pandas as pd\n",
    "\n",
    "# Load the dataset\n",
    "data = fetch_california_housing()\n",
    "df = pd.DataFrame(data.data, columns=data.feature_names)"
   ]
  },
  {
   "cell_type": "code",
   "execution_count": null,
   "id": "2",
   "metadata": {},
   "outputs": [],
   "source": [
    "X_train, X_test, y_train, y_test = train_test_split(\n",
    "    df, data.target, test_size=0.2, random_state=42\n",
    ")"
   ]
  },
  {
   "cell_type": "code",
   "execution_count": null,
   "id": "3",
   "metadata": {},
   "outputs": [],
   "source": [
    "model = GradientBoostingRegressor(\n",
    "    n_estimators=100,\n",
    "    max_depth=4,\n",
    "    learning_rate=0.1,\n",
    "    loss=\"huber\",\n",
    "    random_state=42,\n",
    ")\n",
    "model.fit(X_train, y_train)"
   ]
  },
  {
   "cell_type": "code",
   "execution_count": null,
   "id": "4",
   "metadata": {},
   "outputs": [],
   "source": [
    "from eda_toolkit import plot_2d_pdp\n",
    "\n",
    "# Feature names\n",
    "names = data.feature_names\n",
    "\n",
    "# Generate 2D partial dependence plots\n",
    "plot_2d_pdp(\n",
    "    model=model,\n",
    "    X_train=X_train,\n",
    "    feature_names=names,\n",
    "    features=[\n",
    "        \"MedInc\",\n",
    "        \"AveOccup\",\n",
    "        \"HouseAge\",\n",
    "        \"AveRooms\",\n",
    "        \"Population\",\n",
    "        (\"AveOccup\", \"HouseAge\"),\n",
    "    ],\n",
    "    title=\"PDP of house value on CA non-location features\",\n",
    "    grid_figsize=(14, 10),\n",
    "    individual_figsize=(12, 4),\n",
    "    label_fontsize=14,\n",
    "    tick_fontsize=12,\n",
    "    text_wrap=120,\n",
    "    plot_type=\"grid\",\n",
    "    # image_path_png=\"path/to/save/png\",\n",
    "    # save_plots=\"all\",\n",
    ")"
   ]
  },
  {
   "cell_type": "markdown",
   "id": "5",
   "metadata": {},
   "source": [
    "## Plot 3D PDP for two features"
   ]
  },
  {
   "cell_type": "code",
   "execution_count": null,
   "id": "6",
   "metadata": {},
   "outputs": [],
   "source": [
    "from eda_toolkit import plot_3d_pdp\n",
    "\n",
    "plot_3d_pdp(\n",
    "    model=model,\n",
    "    dataframe=X_test,\n",
    "    feature_names_list=[\"HouseAge\", \"AveOccup\"],\n",
    "    x_label=\"House Age\",\n",
    "    y_label=\"Average Occupancy\",\n",
    "    z_label=\"Partial Dependence\",\n",
    "    title=\"3D Partial Dependence Plot of House Age vs. Average Occupancy\",\n",
    "    image_filename=\"3d_pdp\",\n",
    "    plot_type=\"static\",\n",
    "    figsize=[8, 5],\n",
    "    text_wrap=40,\n",
    "    wireframe_color=\"black\",\n",
    "    image_path_png=image_path_png,\n",
    "    grid_resolution=30,\n",
    ")"
   ]
  }
 ],
 "metadata": {
  "kernelspec": {
   "display_name": "metrics_venv",
   "language": "python",
   "name": "python3"
  },
  "language_info": {
   "codemirror_mode": {
    "name": "ipython",
    "version": 3
   },
   "file_extension": ".py",
   "mimetype": "text/x-python",
   "name": "python",
   "nbconvert_exporter": "python",
   "pygments_lexer": "ipython3",
   "version": "3.11.11"
  }
 },
 "nbformat": 4,
 "nbformat_minor": 5
}
