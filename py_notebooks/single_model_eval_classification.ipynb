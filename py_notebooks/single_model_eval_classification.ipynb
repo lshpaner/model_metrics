{
 "cells": [
  {
   "cell_type": "markdown",
   "metadata": {},
   "source": [
    "## Import Necessary Libraries"
   ]
  },
  {
   "cell_type": "code",
   "execution_count": null,
   "metadata": {},
   "outputs": [],
   "source": [
    "import pandas as pd\n",
    "import os\n",
    "\n",
    "import model_metrics\n",
    "\n",
    "print(model_metrics.__version__)\n",
    "\n",
    "from model_tuner import loadObjects\n",
    "\n",
    "from eda_toolkit import ensure_directory\n",
    "from model_metrics import (\n",
    "    summarize_model_performance,\n",
    "    show_calibration_curve,\n",
    "    show_confusion_matrix,\n",
    "    show_roc_curve,\n",
    "    show_pr_curve,\n",
    "    show_lift_chart,\n",
    "    show_gain_chart,\n",
    ")"
   ]
  },
  {
   "cell_type": "markdown",
   "metadata": {},
   "source": [
    "## Set Model Path"
   ]
  },
  {
   "cell_type": "code",
   "execution_count": null,
   "metadata": {},
   "outputs": [],
   "source": [
    "print(f\"Model Metrics version: {model_metrics.__version__}\")\n",
    "print(f\"Model Metrics authors: {model_metrics.__author__} \\n\")\n",
    "\n",
    "## Define base paths\n",
    "## `base_path`` represents the parent directory of your current working directory\n",
    "base_path = os.path.join(os.pardir)\n",
    "## Go up one level from 'notebooks' to the parent directory, then into the\n",
    "## 'results' folder\n",
    "\n",
    "model_path = os.path.join(os.pardir, \"model_files/single_model_classification_results\")\n",
    "image_path_png = os.path.join(model_path, \"images\", \"png_images\")\n",
    "image_path_svg = os.path.join(model_path, \"images\", \"svg_images\")\n",
    "\n",
    "# Use the function to ensure the 'data' directory exists\n",
    "ensure_directory(model_path)\n",
    "ensure_directory(image_path_png)\n",
    "ensure_directory(image_path_svg)"
   ]
  },
  {
   "cell_type": "markdown",
   "metadata": {},
   "source": [
    "## Load The Model Object and Test Data"
   ]
  },
  {
   "cell_type": "code",
   "execution_count": null,
   "metadata": {},
   "outputs": [],
   "source": [
    "model = loadObjects(os.path.join(model_path, \"logistic_regression_model.pkl\"))\n",
    "\n",
    "X_test = pd.read_parquet(os.path.join(model_path, \"X_test.parquet\"))\n",
    "y_test = pd.read_parquet(os.path.join(model_path, \"y_test.parquet\"))\n",
    "\n",
    "X_valid = pd.read_parquet(os.path.join(model_path, \"X_valid.parquet\"))\n",
    "y_valid = pd.read_parquet(os.path.join(model_path, \"y_valid.parquet\"))"
   ]
  },
  {
   "cell_type": "markdown",
   "metadata": {},
   "source": [
    "## Set The Desired Naming Conventions"
   ]
  },
  {
   "cell_type": "code",
   "execution_count": null,
   "metadata": {},
   "outputs": [],
   "source": [
    "pipelines_or_models = [\n",
    "    model,\n",
    "]\n",
    "\n",
    "# Model titles\n",
    "model_titles = [\n",
    "    \"Logistic Regression\",\n",
    "]"
   ]
  },
  {
   "cell_type": "markdown",
   "metadata": {},
   "source": [
    "## Summarize Model Performance"
   ]
  },
  {
   "cell_type": "code",
   "execution_count": null,
   "metadata": {},
   "outputs": [],
   "source": [
    "model_summary = summarize_model_performance(\n",
    "    model=pipelines_or_models,\n",
    "    X=X_test,\n",
    "    y=y_test,\n",
    "    model_type=\"classification\",\n",
    "    model_title=model_titles,\n",
    "    # model_threshold=thresholdas,\n",
    "    return_df=True,\n",
    "    # overall_only=True,\n",
    "    # custom_threshold=0.7,\n",
    "    # decimal_places=2,\n",
    ")\n",
    "\n",
    "model_summary"
   ]
  },
  {
   "cell_type": "markdown",
   "metadata": {},
   "source": [
    "## Plot The Calibration Curve"
   ]
  },
  {
   "cell_type": "code",
   "execution_count": null,
   "metadata": {},
   "outputs": [],
   "source": [
    "# Plot calibration curves in overlay mode\n",
    "show_calibration_curve(\n",
    "    model=pipelines_or_models,\n",
    "    X=X_test,\n",
    "    y=y_test,\n",
    "    model_title=model_titles,\n",
    "    overlay=False,\n",
    "    # title=\"Calibration Curves\",\n",
    "    text_wrap=40,\n",
    "    figsize=(6, 4),\n",
    "    label_fontsize=14,\n",
    "    tick_fontsize=9,\n",
    "    bins=10,\n",
    "    show_brier_score=True,\n",
    "    # grid=True,\n",
    "    # gridlines=False,\n",
    "    linestyle_kwgs={\"color\": \"black\"},\n",
    ")"
   ]
  },
  {
   "cell_type": "markdown",
   "metadata": {},
   "source": [
    "## Plot The Confusion Matrix"
   ]
  },
  {
   "cell_type": "code",
   "execution_count": null,
   "metadata": {},
   "outputs": [],
   "source": [
    "pipelines_or_models"
   ]
  },
  {
   "cell_type": "code",
   "execution_count": null,
   "metadata": {},
   "outputs": [],
   "source": [
    "show_confusion_matrix(\n",
    "    model=pipelines_or_models,\n",
    "    X=X_valid,\n",
    "    y=y_valid,\n",
    "    model_titles=model_titles,\n",
    "    cmap=\"Blues\",\n",
    "    text_wrap=40,\n",
    "    # title=\"Custom\",\n",
    "    save_plot=True,\n",
    "    image_path_png=image_path_png,\n",
    "    image_path_svg=image_path_svg,\n",
    "    grid=False,\n",
    "    # n_cols=3,\n",
    "    # n_rows=1,\n",
    "    figsize=(6, 4),\n",
    "    show_colorbar=True,\n",
    "    label_fontsize=14,\n",
    "    tick_fontsize=12,\n",
    "    inner_fontsize=10,\n",
    "    class_report=True,\n",
    "    # custom_threshold=0.5,\n",
    "    # labels=False,\n",
    ")"
   ]
  },
  {
   "cell_type": "code",
   "execution_count": null,
   "metadata": {},
   "outputs": [],
   "source": [
    "y_prob = [model.predict_proba(X_valid)[:, 1] for model in pipelines_or_models]"
   ]
  },
  {
   "cell_type": "code",
   "execution_count": null,
   "metadata": {},
   "outputs": [],
   "source": [
    "y_prob"
   ]
  },
  {
   "cell_type": "code",
   "execution_count": null,
   "metadata": {},
   "outputs": [],
   "source": [
    "show_confusion_matrix(\n",
    "    y_prob=y_prob,\n",
    "    y=y_valid.to_numpy(),\n",
    "    model_title=model_titles,\n",
    "    cmap=\"Blues\",\n",
    "    text_wrap=40,\n",
    "    # title=\"Custom\",\n",
    "    save_plot=True,\n",
    "    image_path_png=image_path_png,\n",
    "    image_path_svg=image_path_svg,\n",
    "    grid=False,\n",
    "    # n_cols=3,\n",
    "    # n_rows=1,\n",
    "    figsize=(6, 4),\n",
    "    show_colorbar=True,\n",
    "    label_fontsize=14,\n",
    "    tick_fontsize=12,\n",
    "    inner_fontsize=10,\n",
    "    class_report=True,\n",
    "    # custom_threshold=0.5,\n",
    "    # labels=False,\n",
    ")"
   ]
  },
  {
   "cell_type": "markdown",
   "metadata": {},
   "source": [
    "## Plot ROC AUC Curve"
   ]
  },
  {
   "cell_type": "markdown",
   "metadata": {},
   "source": [
    "### On Validation Set"
   ]
  },
  {
   "cell_type": "code",
   "execution_count": null,
   "metadata": {},
   "outputs": [],
   "source": [
    "y_prob_valid = [model.predict_proba(X_valid)[:, 1] for model in pipelines_or_models]\n",
    "y_prob_valid"
   ]
  },
  {
   "cell_type": "code",
   "execution_count": null,
   "metadata": {},
   "outputs": [],
   "source": [
    "# Plot ROC curves\n",
    "show_roc_curve(\n",
    "    # model=pipelines_or_models,\n",
    "    # X=X_test,\n",
    "    y=y_valid,\n",
    "    y_prob=y_prob_valid,\n",
    "    overlay=False,\n",
    "    # title=\"Custom\",\n",
    "    title=None,\n",
    "    model_title=model_titles,\n",
    "    decimal_places=3,\n",
    "    n_cols=3,\n",
    "    # n_rows=1,\n",
    "    # curve_kwgs={\n",
    "    #     \"Logistic Regression\": {\"color\": \"blue\", \"linewidth\": 2},\n",
    "    #     \"SVM\": {\"color\": \"red\", \"linestyle\": \"--\", \"linewidth\": 1.5},\n",
    "    # },\n",
    "    # linestyle_kwgs={\"color\": \"grey\", \"linestyle\": \"--\"},\n",
    "    save_plot=True,\n",
    "    subplots=False,\n",
    "    figsize=(4, 4),\n",
    "    # label_fontsize=16,\n",
    "    # tick_fontsize=16,\n",
    "    image_path_png=image_path_png,\n",
    "    image_path_svg=image_path_svg,\n",
    "    # gridlines=False,\n",
    ")"
   ]
  },
  {
   "cell_type": "markdown",
   "metadata": {},
   "source": [
    "### On Test Set"
   ]
  },
  {
   "cell_type": "code",
   "execution_count": null,
   "metadata": {},
   "outputs": [],
   "source": [
    "y_prob_test = [model.predict_proba(X_test)[:, 1] for model in pipelines_or_models]\n",
    "y_prob_test"
   ]
  },
  {
   "cell_type": "code",
   "execution_count": null,
   "metadata": {},
   "outputs": [],
   "source": [
    "# Plot ROC curves\n",
    "show_roc_curve(\n",
    "    # model=pipelines_or_models,\n",
    "    # X=X_test,\n",
    "    y=y_test,\n",
    "    y_prob=y_prob_test,\n",
    "    overlay=False,\n",
    "    # title=\"Custom\",\n",
    "    title=None,\n",
    "    model_title=model_titles,\n",
    "    decimal_places=3,\n",
    "    n_cols=3,\n",
    "    # n_rows=1,\n",
    "    # curve_kwgs={\n",
    "    #     \"Logistic Regression\": {\"color\": \"blue\", \"linewidth\": 2},\n",
    "    #     \"SVM\": {\"color\": \"red\", \"linestyle\": \"--\", \"linewidth\": 1.5},\n",
    "    # },\n",
    "    # linestyle_kwgs={\"color\": \"grey\", \"linestyle\": \"--\"},\n",
    "    save_plot=True,\n",
    "    subplots=False,\n",
    "    figsize=(4, 4),\n",
    "    # label_fontsize=16,\n",
    "    # tick_fontsize=16,\n",
    "    image_path_png=image_path_png,\n",
    "    image_path_svg=image_path_svg,\n",
    "    # gridlines=False,\n",
    ")"
   ]
  },
  {
   "cell_type": "markdown",
   "metadata": {},
   "source": [
    "## Precision-Recall Curve"
   ]
  },
  {
   "cell_type": "code",
   "execution_count": null,
   "metadata": {},
   "outputs": [],
   "source": [
    "show_pr_curve(\n",
    "    model=pipelines_or_models,\n",
    "    X=X_test,\n",
    "    y=y_test,\n",
    "    # x_label=\"Hello\",\n",
    "    model_title=model_titles,\n",
    "    decimal_places=3,\n",
    "    # title=\"Custom\",\n",
    "    overlay=False,\n",
    "    subplots=False,\n",
    "    save_plot=True,\n",
    "    image_path_png=image_path_png,\n",
    "    image_path_svg=image_path_svg,\n",
    "    figsize=(4, 4),\n",
    "    # tick_fontsize=16,\n",
    "    # label_fontsize=16,\n",
    "    # grid=True,\n",
    "    # gridlines=False,\n",
    ")"
   ]
  },
  {
   "cell_type": "markdown",
   "metadata": {},
   "source": [
    "## Lift Chart"
   ]
  },
  {
   "cell_type": "code",
   "execution_count": null,
   "metadata": {},
   "outputs": [],
   "source": [
    "# Plot Lift chart\n",
    "show_lift_chart(\n",
    "    model=pipelines_or_models,\n",
    "    X=X_test,\n",
    "    y=y_test,\n",
    "    overlay=False,\n",
    "    # title=\"Custom\",\n",
    "    model_title=model_titles,\n",
    "    save_plot=True,\n",
    "    # curve_kwgs={\n",
    "    #     \"Logistic Regression\": {\"color\": \"blue\", \"linewidth\": 2},\n",
    "    #     # \"SVM\": {\"color\": \"red\", \"linestyle\": \"--\", \"linewidth\": 1.5},\n",
    "    # },\n",
    "    linestyle_kwgs={\"color\": \"grey\", \"linestyle\": \"--\"},\n",
    "    subplots=False,\n",
    "    figsize=(4, 4),\n",
    "    image_path_png=image_path_png,\n",
    "    image_path_svg=image_path_svg,\n",
    ")"
   ]
  },
  {
   "cell_type": "markdown",
   "metadata": {},
   "source": [
    "## Gain Chart"
   ]
  },
  {
   "cell_type": "code",
   "execution_count": null,
   "metadata": {},
   "outputs": [],
   "source": [
    "# Plot Gain chart\n",
    "show_gain_chart(\n",
    "    model=pipelines_or_models,\n",
    "    X=X_test,\n",
    "    y=y_test,\n",
    "    overlay=False,\n",
    "    # title=\"Custom\",\n",
    "    model_title=model_titles,\n",
    "    # curve_kwgs={\n",
    "    #     \"Logistic Regression\": {\"color\": \"blue\", \"linewidth\": 2},\n",
    "    #     # \"SVM\": {\"color\": \"red\", \"linestyle\": \"--\", \"linewidth\": 1.5},\n",
    "    # },\n",
    "    # linestyle_kwgs={\"color\": \"black\", \"linestyle\": \"-\"},\n",
    "    save_plot=True,\n",
    "    subplots=False,\n",
    "    figsize=(4, 4),\n",
    "    image_path_png=image_path_png,\n",
    "    image_path_svg=image_path_svg,\n",
    ")"
   ]
  }
 ],
 "metadata": {
  "kernelspec": {
   "display_name": "metrics_venv",
   "language": "python",
   "name": "python3"
  },
  "language_info": {
   "codemirror_mode": {
    "name": "ipython",
    "version": 3
   },
   "file_extension": ".py",
   "mimetype": "text/x-python",
   "name": "python",
   "nbconvert_exporter": "python",
   "pygments_lexer": "ipython3",
   "version": "3.11.11"
  }
 },
 "nbformat": 4,
 "nbformat_minor": 2
}
