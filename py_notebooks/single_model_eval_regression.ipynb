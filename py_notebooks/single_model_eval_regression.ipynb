{
 "cells": [
  {
   "cell_type": "markdown",
   "metadata": {},
   "source": [
    "## Import Necessary Libraries"
   ]
  },
  {
   "cell_type": "code",
   "execution_count": 1,
   "metadata": {},
   "outputs": [
    {
     "name": "stdout",
     "output_type": "stream",
     "text": [
      "0.0.1a\n"
     ]
    }
   ],
   "source": [
    "import pandas as pd\n",
    "import numpy as np\n",
    "import matplotlib.pyplot as plt\n",
    "import os\n",
    "import sys\n",
    "\n",
    "import model_metrics\n",
    "\n",
    "print(model_metrics.__version__)\n",
    "\n",
    "from sklearn.datasets import make_classification\n",
    "from sklearn.linear_model import LogisticRegression\n",
    "from model_tuner import Model, loadObjects\n",
    "import model_tuner\n",
    "\n",
    "from eda_toolkit import ensure_directory\n",
    "from model_metrics import (\n",
    "    summarize_model_performance,\n",
    "    show_calibration_curve,\n",
    "    show_confusion_matrix,\n",
    "    show_roc_curve,\n",
    "    show_pr_curve,\n",
    "    show_lift_chart,\n",
    "    show_gain_chart,\n",
    ")"
   ]
  },
  {
   "cell_type": "markdown",
   "metadata": {},
   "source": [
    "## Lasso Regression Metrics"
   ]
  },
  {
   "cell_type": "code",
   "execution_count": 2,
   "metadata": {},
   "outputs": [
    {
     "name": "stdout",
     "output_type": "stream",
     "text": [
      "Object loaded!\n"
     ]
    }
   ],
   "source": [
    "model_path = os.path.join(os.pardir, \"model_files/single_model_regression_results\")\n",
    "model_lasso = loadObjects(os.path.join(model_path, \"lasso_regression_model.pkl\"))\n",
    "\n",
    "X_test = pd.read_parquet(os.path.join(model_path, \"X_test.parquet\"))\n",
    "y_test = pd.read_parquet(os.path.join(model_path, \"y_test.parquet\"))\n",
    "\n",
    "X_valid = pd.read_parquet(os.path.join(model_path, \"X_valid.parquet\"))\n",
    "y_valid = pd.read_parquet(os.path.join(model_path, \"y_valid.parquet\"))"
   ]
  },
  {
   "cell_type": "markdown",
   "metadata": {},
   "source": [
    "## Summarize Model Performance"
   ]
  },
  {
   "cell_type": "code",
   "execution_count": 3,
   "metadata": {},
   "outputs": [],
   "source": [
    "pipelines_or_models_lasso = [\n",
    "    model_lasso,\n",
    "]\n",
    "\n",
    "# Model titles\n",
    "model_titles = [\n",
    "    \"Lasso Regression\",\n",
    "]"
   ]
  },
  {
   "cell_type": "code",
   "execution_count": 4,
   "metadata": {},
   "outputs": [
    {
     "data": {
      "text/html": [
       "<div>\n",
       "<style scoped>\n",
       "    .dataframe tbody tr th:only-of-type {\n",
       "        vertical-align: middle;\n",
       "    }\n",
       "\n",
       "    .dataframe tbody tr th {\n",
       "        vertical-align: top;\n",
       "    }\n",
       "\n",
       "    .dataframe thead th {\n",
       "        text-align: right;\n",
       "    }\n",
       "</style>\n",
       "<table border=\"1\" class=\"dataframe\">\n",
       "  <thead>\n",
       "    <tr style=\"text-align: right;\">\n",
       "      <th>Model</th>\n",
       "      <th>Lasso Regression</th>\n",
       "    </tr>\n",
       "  </thead>\n",
       "  <tbody>\n",
       "    <tr>\n",
       "      <th>MAE</th>\n",
       "      <td>53.549</td>\n",
       "    </tr>\n",
       "    <tr>\n",
       "      <th>MAPE (%)</th>\n",
       "      <td>42.740</td>\n",
       "    </tr>\n",
       "    <tr>\n",
       "      <th>MSE</th>\n",
       "      <td>4106.445</td>\n",
       "    </tr>\n",
       "    <tr>\n",
       "      <th>RMSE</th>\n",
       "      <td>64.082</td>\n",
       "    </tr>\n",
       "    <tr>\n",
       "      <th>Explained Variance</th>\n",
       "      <td>0.316</td>\n",
       "    </tr>\n",
       "    <tr>\n",
       "      <th>R^2 Score</th>\n",
       "      <td>0.290</td>\n",
       "    </tr>\n",
       "  </tbody>\n",
       "</table>\n",
       "</div>"
      ],
      "text/plain": [
       "Model               Lasso Regression\n",
       "MAE                           53.549\n",
       "MAPE (%)                      42.740\n",
       "MSE                         4106.445\n",
       "RMSE                          64.082\n",
       "Explained Variance             0.316\n",
       "R^2 Score                      0.290"
      ]
     },
     "execution_count": 4,
     "metadata": {},
     "output_type": "execute_result"
    }
   ],
   "source": [
    "model_summary_lasso = summarize_model_performance(\n",
    "    model=pipelines_or_models_lasso,\n",
    "    X=X_test,\n",
    "    y=y_test,\n",
    "    model_type=\"regression\",\n",
    "    model_titles=model_titles,\n",
    "    # model_threshold=thresholds,\n",
    "    return_df=True,\n",
    "    # custom_threshold=0.7,\n",
    "    # decimal_places=2,\n",
    ")\n",
    "\n",
    "model_summary_lasso"
   ]
  }
 ],
 "metadata": {
  "kernelspec": {
   "display_name": "metrics_venv",
   "language": "python",
   "name": "python3"
  },
  "language_info": {
   "codemirror_mode": {
    "name": "ipython",
    "version": 3
   },
   "file_extension": ".py",
   "mimetype": "text/x-python",
   "name": "python",
   "nbconvert_exporter": "python",
   "pygments_lexer": "ipython3",
   "version": "3.11.11"
  }
 },
 "nbformat": 4,
 "nbformat_minor": 2
}
