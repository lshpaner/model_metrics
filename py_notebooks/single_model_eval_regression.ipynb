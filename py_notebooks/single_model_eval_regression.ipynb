{
 "cells": [
  {
   "cell_type": "markdown",
   "metadata": {},
   "source": [
    "## Import Necessary Libraries"
   ]
  },
  {
   "cell_type": "code",
   "execution_count": null,
   "metadata": {},
   "outputs": [],
   "source": [
    "import pandas as pd\n",
    "import os\n",
    "\n",
    "import model_metrics\n",
    "\n",
    "print(model_metrics.__version__)\n",
    "\n",
    "from model_tuner import loadObjects\n",
    "from model_metrics import summarize_model_performance\n",
    "\n",
    "from sklearn.datasets import load_diabetes\n",
    "from sklearn.model_selection import train_test_split\n",
    "from sklearn.preprocessing import StandardScaler\n",
    "from sklearn.linear_model import LinearRegression, Ridge\n",
    "from sklearn.ensemble import RandomForestRegressor\n",
    "from sklearn.pipeline import Pipeline"
   ]
  },
  {
   "cell_type": "markdown",
   "metadata": {},
   "source": [
    "## Lasso Regression Metrics"
   ]
  },
  {
   "cell_type": "code",
   "execution_count": null,
   "metadata": {},
   "outputs": [],
   "source": [
    "model_path = os.path.join(os.pardir, \"model_files/single_model_regression_results\")\n",
    "model_lasso = loadObjects(os.path.join(model_path, \"lasso_regression_model.pkl\"))\n",
    "\n",
    "X_test = pd.read_parquet(os.path.join(model_path, \"X_test.parquet\"))\n",
    "y_test = pd.read_parquet(os.path.join(model_path, \"y_test.parquet\"))\n",
    "\n",
    "X_valid = pd.read_parquet(os.path.join(model_path, \"X_valid.parquet\"))\n",
    "y_valid = pd.read_parquet(os.path.join(model_path, \"y_valid.parquet\"))"
   ]
  },
  {
   "cell_type": "markdown",
   "metadata": {},
   "source": [
    "## Summarize Model Performance"
   ]
  },
  {
   "cell_type": "code",
   "execution_count": null,
   "metadata": {},
   "outputs": [],
   "source": [
    "pipelines_or_models_lasso = [\n",
    "    model_lasso,\n",
    "]\n",
    "\n",
    "# Model titles\n",
    "model_title = [\"Lasso Regression\", \"Random Forest\"]"
   ]
  },
  {
   "cell_type": "code",
   "execution_count": null,
   "metadata": {},
   "outputs": [],
   "source": [
    "y_pred = [model.predict(X_test) for model in pipelines_or_models_lasso]"
   ]
  },
  {
   "cell_type": "code",
   "execution_count": null,
   "metadata": {},
   "outputs": [],
   "source": [
    "summarize_model_performance(\n",
    "    # model=pipelines_or_models_lasso,\n",
    "    y_pred=y_pred,\n",
    "    # X=X_test,\n",
    "    y=y_test,\n",
    "    model_type=\"regression\",\n",
    "    model_title=model_title,\n",
    "    # model_threshold=thresholds,\n",
    "    # return_df=True,\n",
    "    # overall_only=True,\n",
    "    # decimal_places=2,\n",
    ")\n",
    "\n",
    "# print(model_summary_lasso)\n",
    "# model_summary_lasso"
   ]
  },
  {
   "cell_type": "code",
   "execution_count": null,
   "metadata": {},
   "outputs": [],
   "source": [
    "# Load dataset\n",
    "diabetes = load_diabetes(as_frame=True)[\"frame\"]\n",
    "X = diabetes.drop(columns=[\"target\"])\n",
    "y = diabetes[\"target\"]\n",
    "\n",
    "# Split into train and test sets\n",
    "X_train, X_test, y_train, y_test = train_test_split(\n",
    "    X,\n",
    "    y,\n",
    "    test_size=0.2,\n",
    "    random_state=42,\n",
    ")\n",
    "\n",
    "# Train Linear Regression (on unscaled data)\n",
    "linear_model = LinearRegression()\n",
    "linear_model.fit(X_train, y_train)\n",
    "\n",
    "# Train Random Forest Regressor (on unscaled data)\n",
    "rf_model = RandomForestRegressor(\n",
    "    n_estimators=100,\n",
    "    random_state=42,\n",
    ")\n",
    "rf_model.fit(X_train, y_train)\n",
    "\n",
    "# Train Ridge Regression (on scaled data)\n",
    "ridge_model = Pipeline(\n",
    "    [\n",
    "        (\"scaler\", StandardScaler()),\n",
    "        (\"estimator\", Ridge(alpha=1.0)),\n",
    "    ]\n",
    ")\n",
    "ridge_model.fit(X_train, y_train)\n",
    "\n",
    "# Evaluate models using the correct input format\n",
    "print(\"Linear Regression Score:\", linear_model.score(X_test, y_test))  # Unscaled\n",
    "print(\"Ridge Regression Score:\", ridge_model.score(X_test, y_test))  # Scaled\n",
    "print(\"Random Forest Score:\", rf_model.score(X_test, y_test))  # Unscaled"
   ]
  },
  {
   "cell_type": "code",
   "execution_count": null,
   "metadata": {},
   "outputs": [],
   "source": [
    "y_pred_2 = [model.predict(X_test) for model in [linear_model, ridge_model]]"
   ]
  },
  {
   "cell_type": "code",
   "execution_count": null,
   "metadata": {},
   "outputs": [],
   "source": [
    "# Run summarize_model_performance once\n",
    "regression_metrics = summarize_model_performance(\n",
    "    model=[linear_model, ridge_model],\n",
    "    # y_pred=y_pred_2,\n",
    "    model_title=[\n",
    "        \"Linear Regression\",\n",
    "        \"Ridge Regression\",\n",
    "    ],\n",
    "    X=X_test,\n",
    "    y=y_test,\n",
    "    model_type=\"regression\",\n",
    "    return_df=True,\n",
    "    overall_only=False,\n",
    ")\n",
    "\n",
    "# Display final table\n",
    "regression_metrics"
   ]
  },
  {
   "cell_type": "code",
   "execution_count": null,
   "metadata": {},
   "outputs": [],
   "source": [
    "# Run summarize_model_performance once\n",
    "regression_metrics = summarize_model_performance(\n",
    "    model=[rf_model],\n",
    "    model_title=[\"Random Forest\"],\n",
    "    X=X_test,  # Now Ridge gets the scaled version while others get unscaled\n",
    "    y=y_test,\n",
    "    model_type=\"regression\",\n",
    "    return_df=True,\n",
    "    overall_only=False,\n",
    ")\n",
    "\n",
    "# Display final table\n",
    "regression_metrics"
   ]
  },
  {
   "cell_type": "code",
   "execution_count": null,
   "metadata": {},
   "outputs": [],
   "source": [
    "# Run summarize_model_performance once\n",
    "regression_metrics = summarize_model_performance(\n",
    "    model=[linear_model, ridge_model, rf_model],\n",
    "    model_title=[\n",
    "        \"Linear Regression\",\n",
    "        \"Ridge Regression\",\n",
    "        \"Random Forest\",\n",
    "    ],\n",
    "    X=X_test,  # Now Ridge gets the scaled version while others get unscaled\n",
    "    y=y_test,\n",
    "    model_type=\"regression\",\n",
    "    return_df=True,\n",
    "    overall_only=False,\n",
    ")\n",
    "\n",
    "# Display final table\n",
    "regression_metrics"
   ]
  }
 ],
 "metadata": {
  "kernelspec": {
   "display_name": "metrics_venv",
   "language": "python",
   "name": "python3"
  },
  "language_info": {
   "codemirror_mode": {
    "name": "ipython",
    "version": 3
   },
   "file_extension": ".py",
   "mimetype": "text/x-python",
   "name": "python",
   "nbconvert_exporter": "python",
   "pygments_lexer": "ipython3",
   "version": "3.11.11"
  }
 },
 "nbformat": 4,
 "nbformat_minor": 2
}
