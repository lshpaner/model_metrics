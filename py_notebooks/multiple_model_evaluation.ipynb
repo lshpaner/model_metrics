{
 "cells": [
  {
   "cell_type": "markdown",
   "metadata": {},
   "source": [
    "## Import Necessary Libraries"
   ]
  },
  {
   "cell_type": "code",
   "execution_count": null,
   "metadata": {},
   "outputs": [],
   "source": [
    "import pandas as pd\n",
    "import numpy as np\n",
    "import matplotlib.pyplot as plt\n",
    "import os\n",
    "import sys\n",
    "\n",
    "import model_metrics\n",
    "\n",
    "print(model_metrics.__version__)\n",
    "\n",
    "from sklearn.linear_model import LogisticRegression\n",
    "from model_tuner import Model, loadObjects\n",
    "\n",
    "from ucimlrepo import fetch_ucirepo\n",
    "from eda_toolkit import ensure_directory\n",
    "from sklearn.metrics import roc_curve\n",
    "from model_metrics import (\n",
    "    summarize_model_performance,\n",
    "    show_calibration_curve,\n",
    "    show_confusion_matrix,\n",
    "    show_roc_curve,\n",
    "    show_pr_curve,\n",
    "    show_lift_chart,\n",
    "    show_gain_chart,\n",
    "    plot_threshold_metrics,\n",
    ")"
   ]
  },
  {
   "cell_type": "markdown",
   "metadata": {},
   "source": [
    "## Set Model Path"
   ]
  },
  {
   "cell_type": "code",
   "execution_count": null,
   "metadata": {},
   "outputs": [],
   "source": [
    "print(f\"Model Metrics version: {model_metrics.__version__}\")\n",
    "print(f\"Model Metrics authors: {model_metrics.__author__} \\n\")\n",
    "\n",
    "## Define base paths\n",
    "## `base_path`` represents the parent directory of your current working directory\n",
    "base_path = os.path.join(os.pardir)\n",
    "## Go up one level from 'notebooks' to the parent directory, then into the\n",
    "## 'results' folder\n",
    "\n",
    "model_path = os.path.join(os.pardir, \"model_files/results\")\n",
    "data_path = os.path.join(os.pardir, \"model_files\")\n",
    "image_path_png = os.path.join(data_path, \"images\", \"png_images\")\n",
    "image_path_svg = os.path.join(data_path, \"images\", \"svg_images\")\n",
    "\n",
    "# Use the function to ensure the 'data' directory exists\n",
    "ensure_directory(model_path)\n",
    "ensure_directory(image_path_png)\n",
    "ensure_directory(image_path_svg)"
   ]
  },
  {
   "cell_type": "markdown",
   "metadata": {},
   "source": [
    "## Load The Model Object and Test Data"
   ]
  },
  {
   "cell_type": "code",
   "execution_count": null,
   "metadata": {},
   "outputs": [],
   "source": [
    "adult = fetch_ucirepo(id=2)\n",
    "\n",
    "# data (as pandas dataframes)\n",
    "X = adult.data.features\n",
    "\n",
    "# X.to_csv(\"../data/X.csv\")"
   ]
  },
  {
   "cell_type": "markdown",
   "metadata": {},
   "source": [
    "### In Case UCI ML Repo is Down\n",
    "\n"
   ]
  },
  {
   "cell_type": "code",
   "execution_count": null,
   "metadata": {},
   "outputs": [],
   "source": [
    "# X = pd.read_csv(\"../data/X.csv\")"
   ]
  },
  {
   "cell_type": "markdown",
   "metadata": {},
   "source": [
    "### Load Model Objects"
   ]
  },
  {
   "cell_type": "code",
   "execution_count": null,
   "metadata": {},
   "outputs": [],
   "source": [
    "model_lr = loadObjects(os.path.join(model_path, \"LogisticRegression.pkl\"))\n",
    "model_dt = loadObjects(os.path.join(model_path, \"DecisionTreeClassifier.pkl\"))\n",
    "model_rf = loadObjects(os.path.join(model_path, \"RandomForestClassifier.pkl\"))\n",
    "\n",
    "\n",
    "X_test = pd.read_parquet(os.path.join(data_path, \"X_test.parquet\"))\n",
    "y_test = pd.read_parquet(os.path.join(data_path, \"y_test.parquet\"))"
   ]
  },
  {
   "cell_type": "code",
   "execution_count": null,
   "metadata": {},
   "outputs": [],
   "source": [
    "X.head()"
   ]
  },
  {
   "cell_type": "code",
   "execution_count": null,
   "metadata": {},
   "outputs": [],
   "source": [
    "X_test_2 = X_test.join(\n",
    "    X[[\"sex\", \"race\", \"relationship\", \"occupation\", \"workclass\", \"education\"]]\n",
    ")"
   ]
  },
  {
   "cell_type": "code",
   "execution_count": null,
   "metadata": {},
   "outputs": [],
   "source": [
    "X_test_2.head()"
   ]
  },
  {
   "cell_type": "markdown",
   "metadata": {},
   "source": [
    "## Set The Desired Naming Conventions"
   ]
  },
  {
   "cell_type": "code",
   "execution_count": null,
   "metadata": {},
   "outputs": [],
   "source": [
    "pipelines_or_models = [\n",
    "    model_lr[\"model\"],\n",
    "    model_dt[\"model\"],\n",
    "    model_rf[\"model\"],\n",
    "]\n",
    "\n",
    "# Model titles\n",
    "model_titles = [\n",
    "    \"Logistic Regression\",\n",
    "    \"Decision Tree Classifier\",\n",
    "    \"Random Forest Classifier\",\n",
    "]\n",
    "\n",
    "model_thresholds = {\n",
    "    \"Logistic Regression\": next(iter(model_lr[\"model\"].threshold.values())),\n",
    "    \"Decision Tree Classifier\": next(iter(model_dt[\"model\"].threshold.values())),\n",
    "    \"Random Forest Classifier\": next(iter(model_rf[\"model\"].threshold.values())),\n",
    "}"
   ]
  },
  {
   "cell_type": "code",
   "execution_count": null,
   "metadata": {},
   "outputs": [],
   "source": [
    "model_thresholds"
   ]
  },
  {
   "cell_type": "markdown",
   "metadata": {},
   "source": [
    "## ROC AUC Curves"
   ]
  },
  {
   "cell_type": "code",
   "execution_count": null,
   "metadata": {},
   "outputs": [],
   "source": [
    "model_titles = [\n",
    "    \"Logistic Regression\",\n",
    "    \"Decision Tree Classifier\",\n",
    "    \"Random Forest Classifier\",\n",
    "]"
   ]
  },
  {
   "cell_type": "markdown",
   "metadata": {},
   "source": [
    "### ROC Curve w/ Model Objects"
   ]
  },
  {
   "cell_type": "code",
   "execution_count": null,
   "metadata": {},
   "outputs": [],
   "source": [
    "# Plot ROC curves\n",
    "show_roc_curve(\n",
    "    model=pipelines_or_models,\n",
    "    X=X_test,\n",
    "    y=y_test,\n",
    "    model_title=model_titles,\n",
    "    decimal_places=2,\n",
    "    n_cols=3,\n",
    "    n_rows=1,\n",
    "    # curve_kwgs={\n",
    "    #     \"Logistic Regression\": {\"color\": \"blue\", \"linewidth\": 2},\n",
    "    # },\n",
    "    linestyle_kwgs={\"color\": \"red\", \"linestyle\": \"--\"},\n",
    "    save_plot=True,\n",
    "    subplots=True,\n",
    "    text_wrap=20,\n",
    "    figsize=(12, 4),\n",
    "    label_fontsize=16,\n",
    "    tick_fontsize=14,\n",
    "    image_path_png=image_path_png,\n",
    "    image_path_svg=image_path_svg,\n",
    ")"
   ]
  },
  {
   "cell_type": "markdown",
   "metadata": {},
   "source": [
    "### ROC Curve w/ Probabilities"
   ]
  },
  {
   "cell_type": "code",
   "execution_count": null,
   "metadata": {},
   "outputs": [],
   "source": [
    "pipelines_or_models[0]"
   ]
  },
  {
   "cell_type": "code",
   "execution_count": null,
   "metadata": {},
   "outputs": [],
   "source": [
    "model_rf[\"model\"].predict_proba(X_test)[:, 1]"
   ]
  },
  {
   "cell_type": "code",
   "execution_count": null,
   "metadata": {},
   "outputs": [],
   "source": [
    "y_prob = [model.predict_proba(X_test)[:, 1] for model in pipelines_or_models]"
   ]
  },
  {
   "cell_type": "code",
   "execution_count": null,
   "metadata": {},
   "outputs": [],
   "source": [
    "# Plot ROC curves\n",
    "show_roc_curve(\n",
    "    y_prob=y_prob,\n",
    "    y=y_test.squeeze().ravel(),\n",
    "    model_title=model_titles,\n",
    "    decimal_places=2,\n",
    "    n_cols=3,\n",
    "    n_rows=1,\n",
    "    # curve_kwgs={\n",
    "    #     \"Logistic Regression\": {\"color\": \"blue\", \"linewidth\": 2},\n",
    "    # },\n",
    "    linestyle_kwgs={\"color\": \"red\", \"linestyle\": \"--\"},\n",
    "    save_plot=True,\n",
    "    subplots=True,\n",
    "    text_wrap=20,\n",
    "    figsize=(12, 4),\n",
    "    label_fontsize=16,\n",
    "    tick_fontsize=14,\n",
    "    image_path_png=image_path_png,\n",
    "    image_path_svg=image_path_svg,\n",
    ")"
   ]
  },
  {
   "cell_type": "markdown",
   "metadata": {},
   "source": [
    "### ROC Curves: Race Category"
   ]
  },
  {
   "cell_type": "code",
   "execution_count": null,
   "metadata": {},
   "outputs": [],
   "source": [
    "# Plot ROC curves\n",
    "show_roc_curve(\n",
    "    model=pipelines_or_models,\n",
    "    X=X_test,\n",
    "    y=y_test,\n",
    "    # overlay=True,\n",
    "    # title=\"Custom\",\n",
    "    # title = \"\",\n",
    "    title=None,\n",
    "    model_title=model_titles,\n",
    "    decimal_places=2,\n",
    "    n_cols=3,\n",
    "    # n_rows=1,\n",
    "    # curve_kwgs={\n",
    "    #     \"Logistic Regression\": {\"color\": \"blue\", \"linewidth\": 2},\n",
    "    # },\n",
    "    # linestyle_kwgs={\"color\": \"grey\", \"linestyle\": \"--\"},\n",
    "    save_plot=True,\n",
    "    # figsize=(8, 8),\n",
    "    # label_fontsize=16,\n",
    "    # tick_fontsize=16,\n",
    "    image_path_png=image_path_png,\n",
    "    image_path_svg=image_path_svg,\n",
    "    # gridlines=False,\n",
    "    group_category=X_test_2[\"race\"],\n",
    ")"
   ]
  },
  {
   "cell_type": "markdown",
   "metadata": {},
   "source": [
    "## Precision-Recall Curves"
   ]
  },
  {
   "cell_type": "markdown",
   "metadata": {},
   "source": [
    "### Precision-Recall Curve w/ Model Objects"
   ]
  },
  {
   "cell_type": "code",
   "execution_count": null,
   "metadata": {},
   "outputs": [],
   "source": [
    "show_pr_curve(\n",
    "    model=pipelines_or_models,\n",
    "    X=X_test,\n",
    "    y=y_test,\n",
    "    # x_label=\"Hello\",\n",
    "    model_title=model_titles,\n",
    "    decimal_places=3,\n",
    "    # title=\"Custom\",\n",
    "    overlay=False,\n",
    "    n_cols=3,\n",
    "    subplots=True,\n",
    "    save_plot=True,\n",
    "    image_path_png=image_path_png,\n",
    "    image_path_svg=image_path_svg,\n",
    "    figsize=(10, 4),\n",
    "    # tick_fontsize=16,\n",
    "    # label_fontsize=16,\n",
    "    # grid=True,\n",
    "    # gridlines=False,\n",
    ")"
   ]
  },
  {
   "cell_type": "markdown",
   "metadata": {},
   "source": [
    "### Precision-Recall Curve w/ Probabilities"
   ]
  },
  {
   "cell_type": "code",
   "execution_count": null,
   "metadata": {},
   "outputs": [],
   "source": [
    "show_pr_curve(\n",
    "    # model=pipelines_or_models,\n",
    "    y_prob=y_prob,\n",
    "    # X=X_test,\n",
    "    y=y_test,\n",
    "    # x_label=\"Hello\",\n",
    "    model_title=model_titles,\n",
    "    decimal_places=3,\n",
    "    # title=\"Custom\",\n",
    "    overlay=False,\n",
    "    n_cols=3,\n",
    "    subplots=True,\n",
    "    save_plot=True,\n",
    "    image_path_png=image_path_png,\n",
    "    image_path_svg=image_path_svg,\n",
    "    figsize=(10, 4),\n",
    "    # tick_fontsize=16,\n",
    "    # label_fontsize=16,\n",
    "    # grid=True,\n",
    "    # gridlines=False,\n",
    ")"
   ]
  },
  {
   "cell_type": "markdown",
   "metadata": {},
   "source": [
    "### Precision-Recall Curves: Race Category"
   ]
  },
  {
   "cell_type": "code",
   "execution_count": null,
   "metadata": {},
   "outputs": [],
   "source": [
    "# Plot ROC curves\n",
    "show_pr_curve(\n",
    "    model=pipelines_or_models,\n",
    "    X=X_test,\n",
    "    y=y_test,\n",
    "    overlay=False,\n",
    "    # title=\"Custom\",\n",
    "    # title = \"\",\n",
    "    title=None,\n",
    "    model_title=model_titles,\n",
    "    decimal_places=2,\n",
    "    n_cols=3,\n",
    "    # n_rows=1,\n",
    "    # curve_kwgs={\n",
    "    #     \"Logistic Regression\": {\"color\": \"blue\", \"linewidth\": 2},\n",
    "    # },\n",
    "    # linestyle_kwgs={\"color\": \"grey\", \"linestyle\": \"--\"},\n",
    "    save_plot=True,\n",
    "    subplots=False,\n",
    "    # figsize=(8, 8),\n",
    "    # label_fontsize=16,\n",
    "    # tick_fontsize=16,\n",
    "    image_path_png=image_path_png,\n",
    "    image_path_svg=image_path_svg,\n",
    "    # gridlines=False,\n",
    "    group_category=X_test_2[\"race\"],\n",
    ")"
   ]
  },
  {
   "cell_type": "markdown",
   "metadata": {},
   "source": [
    "## Summarize Model Performance"
   ]
  },
  {
   "cell_type": "markdown",
   "metadata": {},
   "source": [
    "### Summarize Model Performance: Model Objectsm"
   ]
  },
  {
   "cell_type": "code",
   "execution_count": null,
   "metadata": {},
   "outputs": [],
   "source": [
    "model_thresholds"
   ]
  },
  {
   "cell_type": "code",
   "execution_count": null,
   "metadata": {},
   "outputs": [],
   "source": [
    "model_summary = summarize_model_performance(\n",
    "    model=pipelines_or_models,\n",
    "    X=X_test,\n",
    "    y=y_test,\n",
    "    model_title=model_titles,\n",
    "    model_threshold=model_thresholds,\n",
    "    return_df=True,\n",
    "    # decimal_places=6,\n",
    "    # custom_threshold=0.5,\n",
    ")\n",
    "\n",
    "model_summary"
   ]
  },
  {
   "cell_type": "markdown",
   "metadata": {},
   "source": [
    "### Summarize Model Performance: Probabilities"
   ]
  },
  {
   "cell_type": "code",
   "execution_count": null,
   "metadata": {},
   "outputs": [],
   "source": [
    "model_summary = summarize_model_performance(\n",
    "    y_prob=y_prob,\n",
    "    y=y_test,\n",
    "    model_title=model_titles,\n",
    "    model_threshold=model_thresholds,\n",
    "    return_df=True,\n",
    "    # decimal_places=6,\n",
    "    # custom_threshold=0.5,\n",
    ")\n",
    "\n",
    "model_summary"
   ]
  },
  {
   "cell_type": "code",
   "execution_count": null,
   "metadata": {},
   "outputs": [],
   "source": [
    "model_titles"
   ]
  },
  {
   "cell_type": "code",
   "execution_count": null,
   "metadata": {},
   "outputs": [],
   "source": [
    "model_titles[1]"
   ]
  },
  {
   "cell_type": "markdown",
   "metadata": {},
   "source": [
    "## Plot The Calibration Curve"
   ]
  },
  {
   "cell_type": "markdown",
   "metadata": {},
   "source": [
    "### Calibration Curve w/ Model Objects"
   ]
  },
  {
   "cell_type": "code",
   "execution_count": null,
   "metadata": {},
   "outputs": [],
   "source": [
    "# Plot calibration curves in overlay mode\n",
    "show_calibration_curve(\n",
    "    model=pipelines_or_models,\n",
    "    X=X_test,\n",
    "    y=y_test,\n",
    "    # model_titles=model_titles,\n",
    "    overlay=True,\n",
    "    # title=\"Calibration Curves\",\n",
    "    text_wrap=40,\n",
    "    figsize=(10, 6),\n",
    "    label_fontsize=14,\n",
    "    tick_fontsize=9,\n",
    "    bins=10,\n",
    "    show_brier_score=True,\n",
    "    subplots=False,\n",
    "    # gridlines=False,\n",
    "    linestyle_kwgs={\"color\": \"black\"},\n",
    "    title=\"\",\n",
    ")"
   ]
  },
  {
   "cell_type": "markdown",
   "metadata": {},
   "source": [
    "### Calibration Curve w/ Probabilities"
   ]
  },
  {
   "cell_type": "code",
   "execution_count": null,
   "metadata": {},
   "outputs": [],
   "source": [
    "# Plot calibration curves in overlay mode\n",
    "show_calibration_curve(\n",
    "    y_prob=y_prob,\n",
    "    y=y_test,\n",
    "    # model_titles=model_titles,\n",
    "    overlay=True,\n",
    "    # title=\"Calibration Curves\",\n",
    "    text_wrap=40,\n",
    "    figsize=(10, 6),\n",
    "    label_fontsize=14,\n",
    "    tick_fontsize=9,\n",
    "    bins=10,\n",
    "    show_brier_score=True,\n",
    "    subplots=False,\n",
    "    # gridlines=False,\n",
    "    linestyle_kwgs={\"color\": \"black\"},\n",
    "    title=\"\",\n",
    ")"
   ]
  },
  {
   "cell_type": "markdown",
   "metadata": {},
   "source": [
    "## Plot The Confusion Matrix"
   ]
  },
  {
   "cell_type": "markdown",
   "metadata": {},
   "source": [
    "### Confusion Matrix w/ Model Objects"
   ]
  },
  {
   "cell_type": "code",
   "execution_count": null,
   "metadata": {},
   "outputs": [],
   "source": [
    "model_thresholds"
   ]
  },
  {
   "cell_type": "code",
   "execution_count": null,
   "metadata": {},
   "outputs": [],
   "source": [
    "pipelines_or_models"
   ]
  },
  {
   "cell_type": "code",
   "execution_count": null,
   "metadata": {},
   "outputs": [],
   "source": [
    "show_confusion_matrix(\n",
    "    model=pipelines_or_models,\n",
    "    X=X_test,\n",
    "    y=y_test,\n",
    "    model_title=model_titles,\n",
    "    cmap=\"Blues\",\n",
    "    text_wrap=35,\n",
    "    # title=\"Custom\",\n",
    "    save_plot=True,\n",
    "    image_path_png=image_path_png,\n",
    "    image_path_svg=image_path_svg,\n",
    "    grid=True,\n",
    "    n_cols=3,\n",
    "    n_rows=1,\n",
    "    figsize=(4, 4),\n",
    "    show_colorbar=False,\n",
    "    model_threshold=model_thresholds,\n",
    "    label_fontsize=14,\n",
    "    tick_fontsize=12,\n",
    "    inner_fontsize=10,\n",
    "    class_report=False,\n",
    "    # custom_threshold=0.5,\n",
    "    # labels=False,\n",
    ")"
   ]
  },
  {
   "cell_type": "code",
   "execution_count": null,
   "metadata": {},
   "outputs": [],
   "source": [
    "model_thresholds"
   ]
  },
  {
   "cell_type": "markdown",
   "metadata": {},
   "source": [
    "### Confusion Matrix w/ Probabilities"
   ]
  },
  {
   "cell_type": "code",
   "execution_count": null,
   "metadata": {},
   "outputs": [],
   "source": [
    "y_pred = [model.predict(X_test) for model in pipelines_or_models]"
   ]
  },
  {
   "cell_type": "code",
   "execution_count": null,
   "metadata": {},
   "outputs": [],
   "source": [
    "show_confusion_matrix(\n",
    "    # model=pipelines_or_models,\n",
    "    y_prob=y_prob,\n",
    "    y=y_test,\n",
    "    model_title=model_titles,\n",
    "    cmap=\"Blues\",\n",
    "    text_wrap=35,\n",
    "    # title=\"Custom\",\n",
    "    save_plot=True,\n",
    "    image_path_png=image_path_png,\n",
    "    image_path_svg=image_path_svg,\n",
    "    model_threshold=model_thresholds,\n",
    "    grid=True,\n",
    "    n_cols=3,\n",
    "    n_rows=1,\n",
    "    figsize=(4, 4),\n",
    "    show_colorbar=False,\n",
    "    label_fontsize=14,\n",
    "    tick_fontsize=12,\n",
    "    inner_fontsize=10,\n",
    "    class_report=True,\n",
    "    # custom_threshold=0.5,\n",
    "    # labels=False,\n",
    ")"
   ]
  },
  {
   "cell_type": "code",
   "execution_count": null,
   "metadata": {},
   "outputs": [],
   "source": [
    "X_test.columns.to_list()"
   ]
  },
  {
   "cell_type": "markdown",
   "metadata": {},
   "source": [
    "## Lift Chart"
   ]
  },
  {
   "cell_type": "markdown",
   "metadata": {},
   "source": [
    "### Lift Chart w/ Model Objects"
   ]
  },
  {
   "cell_type": "code",
   "execution_count": null,
   "metadata": {},
   "outputs": [],
   "source": [
    "# Plot Lift chart\n",
    "show_lift_chart(\n",
    "    model=pipelines_or_models,\n",
    "    X=X_test,\n",
    "    y=y_test,\n",
    "    overlay=False,\n",
    "    # title=\"Custom\",\n",
    "    model_title=model_titles,\n",
    "    save_plot=True,\n",
    "    # curve_kwgs={\n",
    "    #     \"Logistic Regression\": {\"color\": \"blue\", \"linewidth\": 2},\n",
    "    #     # \"SVM\": {\"color\": \"red\", \"linestyle\": \"--\", \"linewidth\": 1.5},\n",
    "    # },\n",
    "    linestyle_kwgs={\"color\": \"grey\", \"linestyle\": \"--\"},\n",
    "    subplots=True,\n",
    "    n_cols=3,\n",
    "    figsize=(10, 4),\n",
    "    image_path_png=image_path_png,\n",
    "    image_path_svg=image_path_svg,\n",
    ")"
   ]
  },
  {
   "cell_type": "markdown",
   "metadata": {},
   "source": [
    "### Lift Chart w. Probabilities"
   ]
  },
  {
   "cell_type": "code",
   "execution_count": null,
   "metadata": {},
   "outputs": [],
   "source": [
    "# Plot Lift chart\n",
    "show_lift_chart(\n",
    "    y_prob=y_prob,\n",
    "    y=y_test,\n",
    "    overlay=False,\n",
    "    # title=\"Custom\",\n",
    "    model_title=model_titles,\n",
    "    save_plot=True,\n",
    "    # curve_kwgs={\n",
    "    #     \"Logistic Regression\": {\"color\": \"blue\", \"linewidth\": 2},\n",
    "    #     # \"SVM\": {\"color\": \"red\", \"linestyle\": \"--\", \"linewidth\": 1.5},\n",
    "    # },\n",
    "    linestyle_kwgs={\"color\": \"grey\", \"linestyle\": \"--\"},\n",
    "    subplots=True,\n",
    "    n_cols=3,\n",
    "    figsize=(10, 4),\n",
    "    image_path_png=image_path_png,\n",
    "    image_path_svg=image_path_svg,\n",
    ")"
   ]
  },
  {
   "cell_type": "markdown",
   "metadata": {},
   "source": [
    "## Gain Chart"
   ]
  },
  {
   "cell_type": "markdown",
   "metadata": {},
   "source": [
    "### Gain Chart w/ Model Objects"
   ]
  },
  {
   "cell_type": "code",
   "execution_count": null,
   "metadata": {},
   "outputs": [],
   "source": [
    "# Plot Gain chart\n",
    "show_gain_chart(\n",
    "    model=pipelines_or_models,\n",
    "    X=X_test,\n",
    "    y=y_test,\n",
    "    overlay=False,\n",
    "    # title=\"Custom\",\n",
    "    model_title=model_titles,\n",
    "    # curve_kwgs={\n",
    "    #     \"Logistic Regression\": {\"color\": \"blue\", \"linewidth\": 2},\n",
    "    #     # \"SVM\": {\"color\": \"red\", \"linestyle\": \"--\", \"linewidth\": 1.5},\n",
    "    # },\n",
    "    # linestyle_kwgs={\"color\": \"black\", \"linestyle\": \"-\"},\n",
    "    save_plot=True,\n",
    "    subplots=True,\n",
    "    n_cols=3,\n",
    "    figsize=(10, 4),\n",
    "    image_path_png=image_path_png,\n",
    "    image_path_svg=image_path_svg,\n",
    ")"
   ]
  },
  {
   "cell_type": "markdown",
   "metadata": {},
   "source": [
    "### Gain Chart w/ Probabilities"
   ]
  },
  {
   "cell_type": "code",
   "execution_count": null,
   "metadata": {},
   "outputs": [],
   "source": [
    "# Plot Gain chart\n",
    "show_gain_chart(\n",
    "    y_prob=y_prob,\n",
    "    y=y_test,\n",
    "    overlay=False,\n",
    "    # title=\"Custom\",\n",
    "    model_title=model_titles,\n",
    "    # curve_kwgs={\n",
    "    #     \"Logistic Regression\": {\"color\": \"blue\", \"linewidth\": 2},\n",
    "    #     # \"SVM\": {\"color\": \"red\", \"linestyle\": \"--\", \"linewidth\": 1.5},\n",
    "    # },\n",
    "    # linestyle_kwgs={\"color\": \"black\", \"linestyle\": \"-\"},\n",
    "    save_plot=True,\n",
    "    subplots=True,\n",
    "    n_cols=3,\n",
    "    figsize=(10, 4),\n",
    "    image_path_png=image_path_png,\n",
    "    image_path_svg=image_path_svg,\n",
    ")"
   ]
  },
  {
   "cell_type": "code",
   "execution_count": null,
   "metadata": {},
   "outputs": [],
   "source": [
    "model_summary = summarize_model_performance(\n",
    "    model=pipelines_or_models[0],\n",
    "    X=X_test,\n",
    "    y=y_test,\n",
    "    model_title=model_titles,\n",
    "    # model_threshold=thresholds,\n",
    "    return_df=True,\n",
    "    custom_threshold=0.7811,\n",
    ")\n",
    "\n",
    "model_summary"
   ]
  },
  {
   "cell_type": "markdown",
   "metadata": {},
   "source": [
    "## Model Threshold Metrics"
   ]
  },
  {
   "cell_type": "markdown",
   "metadata": {},
   "source": [
    "### Model Threshold Metrics w/ Model Objects"
   ]
  },
  {
   "cell_type": "code",
   "execution_count": null,
   "metadata": {},
   "outputs": [],
   "source": [
    "# Example usage with a trained model\n",
    "plot_threshold_metrics(\n",
    "    pipelines_or_models[0],\n",
    "    X_test,\n",
    "    y_test=y_test,\n",
    "    # figsize=(6, 6),\n",
    "    # gridlines=False,\n",
    "    baseline_thresh=True,\n",
    "    model_threshold=model_thresholds[\"Logistic Regression\"],\n",
    "    baseline_kwgs={\n",
    "        \"color\": \"red\",\n",
    "        \"linestyle\": \"--\",\n",
    "        # \"alpha\": 0.7,\n",
    "        \"linewidth\": 1,\n",
    "    },\n",
    "    threshold_kwgs={\n",
    "        \"color\": \"green\",\n",
    "        \"linestyle\": \"--\",\n",
    "        # \"alpha\": 0.7,\n",
    "        \"linewidth\": 1,\n",
    "    },\n",
    "    curve_kwgs={\n",
    "        \"linestyle\": \"-\",\n",
    "        # \"alpha\": 0.1,\n",
    "        \"linewidth\": 1.25,\n",
    "    },\n",
    "    lookup_metric=\"recall\",\n",
    "    lookup_value=0.56,\n",
    "    # title=\"Threshold Metrics for Model X\",\n",
    "    # decimal_places=2,\n",
    "    # label_fontsize=10,\n",
    "    # tick_fontsize=8,\n",
    ")"
   ]
  },
  {
   "cell_type": "markdown",
   "metadata": {},
   "source": [
    "### Model Threshold Metrics w/ Probabilities"
   ]
  },
  {
   "cell_type": "code",
   "execution_count": null,
   "metadata": {},
   "outputs": [],
   "source": [
    "# Example usage with a trained model\n",
    "plot_threshold_metrics(\n",
    "    y_prob=y_prob[0],\n",
    "    y_test=y_test,\n",
    "    # figsize=(6, 6),\n",
    "    # gridlines=False,\n",
    "    baseline_thresh=False,\n",
    "    model_threshold=model_thresholds[\"Logistic Regression\"],\n",
    "    threshold_kwgs={\n",
    "        \"color\": \"blue\",\n",
    "        \"linestyle\": \"--\",\n",
    "        # \"alpha\": 0.7,\n",
    "        \"linewidth\": 1,\n",
    "    },\n",
    "    curve_kwgs={\n",
    "        \"linestyle\": \"-\",\n",
    "        # \"alpha\": 0.1,\n",
    "        \"linewidth\": 1.25,\n",
    "    },\n",
    "    # lookup_metric=\"recall\",\n",
    "    # lookup_value=0.56,\n",
    "    # title=\"Threshold Metrics for Model X\",\n",
    "    # decimal_places=2,\n",
    "    # label_fontsize=10,\n",
    "    # tick_fontsize=8,\n",
    ")"
   ]
  },
  {
   "cell_type": "code",
   "execution_count": null,
   "metadata": {},
   "outputs": [],
   "source": [
    "# Example usage with a trained model\n",
    "plot_threshold_metrics(\n",
    "    y_prob=y_prob[2],\n",
    "    y_test=y_test,\n",
    "    baseline_thresh=False,\n",
    "    model_threshold=model_thresholds[\"Random Forest Classifier\"],\n",
    "    threshold_kwgs={\n",
    "        \"color\": \"blue\",\n",
    "        \"linestyle\": \"--\",\n",
    "        \"linewidth\": 1,\n",
    "    },\n",
    "    curve_kwgs={\n",
    "        \"linestyle\": \"-\",\n",
    "        \"linewidth\": 1.25,\n",
    "    },\n",
    "    save_plot=True,\n",
    "    image_path_png=image_path_png,\n",
    "    image_path_svg=image_path_svg,\n",
    ")"
   ]
  }
 ],
 "metadata": {
  "kernelspec": {
   "display_name": "metrics_venv",
   "language": "python",
   "name": "python3"
  },
  "language_info": {
   "codemirror_mode": {
    "name": "ipython",
    "version": 3
   },
   "file_extension": ".py",
   "mimetype": "text/x-python",
   "name": "python",
   "nbconvert_exporter": "python",
   "pygments_lexer": "ipython3",
   "version": "3.11.11"
  }
 },
 "nbformat": 4,
 "nbformat_minor": 2
}
