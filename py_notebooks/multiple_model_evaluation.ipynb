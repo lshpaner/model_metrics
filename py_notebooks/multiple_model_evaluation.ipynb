{
 "cells": [
  {
   "cell_type": "markdown",
   "metadata": {},
   "source": [
    "## Import Necessary Libraries"
   ]
  },
  {
   "cell_type": "code",
   "execution_count": null,
   "metadata": {},
   "outputs": [
    {
     "name": "stdout",
     "output_type": "stream",
     "text": [
      "0.0.1a\n"
     ]
    }
   ],
   "source": [
    "import pandas as pd\n",
    "import numpy as np\n",
    "import matplotlib.pyplot as plt\n",
    "import os\n",
    "import sys\n",
    "\n",
    "import model_metrics\n",
    "\n",
    "print(model_metrics.__version__)\n",
    "\n",
    "from sklearn.datasets import make_classification\n",
    "from sklearn.linear_model import LogisticRegression\n",
    "from model_tuner import Model, loadObjects\n",
    "import model_tuner\n",
    "\n",
    "from eda_toolkit import ensure_directory\n",
    "from model_metrics import (\n",
    "    summarize_model_performance,\n",
    "    show_calibration_curve,\n",
    "    show_confusion_matrix,\n",
    "    show_roc_curve,\n",
    "    show_pr_curve,\n",
    "    show_lift_chart,\n",
    "    show_gain_chart,\n",
    "    show_ks_curve\n",
    ")"
   ]
  },
  {
   "cell_type": "markdown",
   "metadata": {},
   "source": [
    "## Set Model Path"
   ]
  },
  {
   "cell_type": "code",
   "execution_count": 2,
   "metadata": {},
   "outputs": [
    {
     "name": "stdout",
     "output_type": "stream",
     "text": [
      "Model Metrics version: 0.0.1a\n",
      "Model Metrics authors: Leonid Shpaner \n",
      "\n",
      "Directory exists: ../model_files/results\n",
      "Directory exists: ../model_files/images/png_images\n",
      "Directory exists: ../model_files/images/svg_images\n"
     ]
    }
   ],
   "source": [
    "print(f\"Model Metrics version: {model_metrics.__version__}\")\n",
    "print(f\"Model Metrics authors: {model_metrics.__author__} \\n\")\n",
    "\n",
    "## Define base paths\n",
    "## `base_path`` represents the parent directory of your current working directory\n",
    "base_path = os.path.join(os.pardir)\n",
    "## Go up one level from 'notebooks' to the parent directory, then into the\n",
    "## 'results' folder\n",
    "\n",
    "model_path = os.path.join(os.pardir, \"model_files/results\")\n",
    "data_path = os.path.join(os.pardir, \"model_files\")\n",
    "image_path_png = os.path.join(data_path, \"images\", \"png_images\")\n",
    "image_path_svg = os.path.join(data_path, \"images\", \"svg_images\")\n",
    "\n",
    "# Use the function to ensure the 'data' directory exists\n",
    "ensure_directory(model_path)\n",
    "ensure_directory(image_path_png)\n",
    "ensure_directory(image_path_svg)"
   ]
  },
  {
   "cell_type": "markdown",
   "metadata": {},
   "source": [
    "## Load The Model Object and Test Data"
   ]
  },
  {
   "cell_type": "code",
   "execution_count": 3,
   "metadata": {},
   "outputs": [
    {
     "name": "stdout",
     "output_type": "stream",
     "text": [
      "Object loaded!\n",
      "Object loaded!\n",
      "Object loaded!\n"
     ]
    }
   ],
   "source": [
    "model_lr = loadObjects(os.path.join(model_path, \"LogisticRegression.pkl\"))\n",
    "model_dt = loadObjects(os.path.join(model_path, \"DecisionTreeClassifier.pkl\"))\n",
    "model_rf = loadObjects(os.path.join(model_path, \"RandomForestClassifier.pkl\"))\n",
    "\n",
    "\n",
    "X_test = pd.read_parquet(os.path.join(data_path, \"X_test.parquet\"))\n",
    "y_test = pd.read_parquet(os.path.join(data_path, \"y_test.parquet\"))"
   ]
  },
  {
   "cell_type": "markdown",
   "metadata": {},
   "source": [
    "## Set The Desired Naming Conventions"
   ]
  },
  {
   "cell_type": "code",
   "execution_count": 4,
   "metadata": {},
   "outputs": [],
   "source": [
    "pipelines_or_models = [\n",
    "    model_lr[\"model\"].estimator,\n",
    "    model_rf[\"model\"].estimator,\n",
    "    model_dt[\"model\"].estimator,\n",
    "]\n",
    "\n",
    "# Model titles\n",
    "model_titles = [\n",
    "    \"Logistic Regression\",\n",
    "    \"Decision Tree Classifier\",\n",
    "    \"Random Forest Classifier\",\n",
    "]"
   ]
  },
  {
   "cell_type": "markdown",
   "metadata": {},
   "source": [
    "## Summarize Model Performance"
   ]
  },
  {
   "cell_type": "code",
   "execution_count": 5,
   "metadata": {},
   "outputs": [
    {
     "data": {
      "text/html": [
       "<div>\n",
       "<style scoped>\n",
       "    .dataframe tbody tr th:only-of-type {\n",
       "        vertical-align: middle;\n",
       "    }\n",
       "\n",
       "    .dataframe tbody tr th {\n",
       "        vertical-align: top;\n",
       "    }\n",
       "\n",
       "    .dataframe thead th {\n",
       "        text-align: right;\n",
       "    }\n",
       "</style>\n",
       "<table border=\"1\" class=\"dataframe\">\n",
       "  <thead>\n",
       "    <tr style=\"text-align: right;\">\n",
       "      <th></th>\n",
       "      <th>Metrics</th>\n",
       "      <th>Logistic Regression</th>\n",
       "      <th>Decision Tree Classifier</th>\n",
       "      <th>Random Forest Classifier</th>\n",
       "    </tr>\n",
       "  </thead>\n",
       "  <tbody>\n",
       "    <tr>\n",
       "      <th></th>\n",
       "      <td>Precision/PPV</td>\n",
       "      <td>0.715</td>\n",
       "      <td>0.744</td>\n",
       "      <td>0.695</td>\n",
       "    </tr>\n",
       "    <tr>\n",
       "      <th></th>\n",
       "      <td>Average Precision</td>\n",
       "      <td>0.664</td>\n",
       "      <td>0.736</td>\n",
       "      <td>0.702</td>\n",
       "    </tr>\n",
       "    <tr>\n",
       "      <th></th>\n",
       "      <td>Sensitivity/Recall</td>\n",
       "      <td>0.42</td>\n",
       "      <td>0.507</td>\n",
       "      <td>0.525</td>\n",
       "    </tr>\n",
       "    <tr>\n",
       "      <th></th>\n",
       "      <td>Specificity</td>\n",
       "      <td>0.947</td>\n",
       "      <td>0.945</td>\n",
       "      <td>0.928</td>\n",
       "    </tr>\n",
       "    <tr>\n",
       "      <th></th>\n",
       "      <td>F1-Score</td>\n",
       "      <td>0.529</td>\n",
       "      <td>0.603</td>\n",
       "      <td>0.598</td>\n",
       "    </tr>\n",
       "    <tr>\n",
       "      <th></th>\n",
       "      <td>AUC ROC</td>\n",
       "      <td>0.836</td>\n",
       "      <td>0.866</td>\n",
       "      <td>0.85</td>\n",
       "    </tr>\n",
       "    <tr>\n",
       "      <th></th>\n",
       "      <td>Brier Score</td>\n",
       "      <td>0.127</td>\n",
       "      <td>0.114</td>\n",
       "      <td>0.12</td>\n",
       "    </tr>\n",
       "    <tr>\n",
       "      <th></th>\n",
       "      <td>Model Threshold</td>\n",
       "      <td>0.5</td>\n",
       "      <td>0.5</td>\n",
       "      <td>0.5</td>\n",
       "    </tr>\n",
       "  </tbody>\n",
       "</table>\n",
       "</div>"
      ],
      "text/plain": [
       "             Metrics Logistic Regression Decision Tree Classifier  \\\n",
       "       Precision/PPV               0.715                    0.744   \n",
       "   Average Precision               0.664                    0.736   \n",
       "  Sensitivity/Recall                0.42                    0.507   \n",
       "         Specificity               0.947                    0.945   \n",
       "            F1-Score               0.529                    0.603   \n",
       "             AUC ROC               0.836                    0.866   \n",
       "         Brier Score               0.127                    0.114   \n",
       "     Model Threshold                 0.5                      0.5   \n",
       "\n",
       " Random Forest Classifier  \n",
       "                    0.695  \n",
       "                    0.702  \n",
       "                    0.525  \n",
       "                    0.928  \n",
       "                    0.598  \n",
       "                     0.85  \n",
       "                     0.12  \n",
       "                      0.5  "
      ]
     },
     "execution_count": 5,
     "metadata": {},
     "output_type": "execute_result"
    }
   ],
   "source": [
    "model_summary = summarize_model_performance(\n",
    "    model=pipelines_or_models,\n",
    "    X=X_test,\n",
    "    y=y_test,\n",
    "    model_titles=model_titles,\n",
    "    # model_threshold=thresholds,\n",
    "    return_df=True,\n",
    "    # custom_threshold=0.7,\n",
    ")\n",
    "\n",
    "model_summary"
   ]
  },
  {
   "cell_type": "code",
   "execution_count": 6,
   "metadata": {},
   "outputs": [
    {
     "ename": "NameError",
     "evalue": "name 'show_ks_curve' is not defined",
     "output_type": "error",
     "traceback": [
      "\u001b[0;31m---------------------------------------------------------------------------\u001b[0m",
      "\u001b[0;31mNameError\u001b[0m                                 Traceback (most recent call last)",
      "Cell \u001b[0;32mIn[6], line 2\u001b[0m\n\u001b[1;32m      1\u001b[0m \u001b[38;5;66;03m# Example: Running KS Curve with a trained model\u001b[39;00m\n\u001b[0;32m----> 2\u001b[0m \u001b[43mshow_ks_curve\u001b[49m(\n\u001b[1;32m      3\u001b[0m     models\u001b[38;5;241m=\u001b[39mpipelines_or_models,  \u001b[38;5;66;03m# Your trained model object\u001b[39;00m\n\u001b[1;32m      4\u001b[0m     X\u001b[38;5;241m=\u001b[39mX_test,  \u001b[38;5;66;03m# Test dataset\u001b[39;00m\n\u001b[1;32m      5\u001b[0m     y\u001b[38;5;241m=\u001b[39my_test,  \u001b[38;5;66;03m# True labels\u001b[39;00m\n\u001b[1;32m      6\u001b[0m     title\u001b[38;5;241m=\u001b[39m\u001b[38;5;124m\"\u001b[39m\u001b[38;5;124mKolmogorov-Smirnov Curve\u001b[39m\u001b[38;5;124m\"\u001b[39m,\n\u001b[1;32m      7\u001b[0m     save_plot\u001b[38;5;241m=\u001b[39m\u001b[38;5;28;01mFalse\u001b[39;00m,\n\u001b[1;32m      8\u001b[0m     text_wrap\u001b[38;5;241m=\u001b[39m\u001b[38;5;241m50\u001b[39m,\n\u001b[1;32m      9\u001b[0m     curve_kwgs\u001b[38;5;241m=\u001b[39m{\u001b[38;5;124m\"\u001b[39m\u001b[38;5;124mlinewidth\u001b[39m\u001b[38;5;124m\"\u001b[39m: \u001b[38;5;241m2\u001b[39m},\n\u001b[1;32m     10\u001b[0m     linestyle_kwgs\u001b[38;5;241m=\u001b[39m{\u001b[38;5;124m\"\u001b[39m\u001b[38;5;124mcolor\u001b[39m\u001b[38;5;124m\"\u001b[39m: \u001b[38;5;124m\"\u001b[39m\u001b[38;5;124mred\u001b[39m\u001b[38;5;124m\"\u001b[39m, \u001b[38;5;124m\"\u001b[39m\u001b[38;5;124mlinestyle\u001b[39m\u001b[38;5;124m\"\u001b[39m: \u001b[38;5;124m\"\u001b[39m\u001b[38;5;124m--\u001b[39m\u001b[38;5;124m\"\u001b[39m, \u001b[38;5;124m\"\u001b[39m\u001b[38;5;124mlinewidth\u001b[39m\u001b[38;5;124m\"\u001b[39m: \u001b[38;5;241m2\u001b[39m},\n\u001b[1;32m     11\u001b[0m     figsize\u001b[38;5;241m=\u001b[39m(\u001b[38;5;241m8\u001b[39m, \u001b[38;5;241m6\u001b[39m),\n\u001b[1;32m     12\u001b[0m     label_fontsize\u001b[38;5;241m=\u001b[39m\u001b[38;5;241m12\u001b[39m,\n\u001b[1;32m     13\u001b[0m     tick_fontsize\u001b[38;5;241m=\u001b[39m\u001b[38;5;241m10\u001b[39m,\n\u001b[1;32m     14\u001b[0m     gridlines\u001b[38;5;241m=\u001b[39m\u001b[38;5;28;01mTrue\u001b[39;00m,\n\u001b[1;32m     15\u001b[0m )\n",
      "\u001b[0;31mNameError\u001b[0m: name 'show_ks_curve' is not defined"
     ]
    }
   ],
   "source": [
    "# Example: Running KS Curve with a trained model\n",
    "show_ks_curve(\n",
    "    models=pipelines_or_models,  # Your trained model object\n",
    "    X=X_test,  # Test dataset\n",
    "    y=y_test,  # True labels\n",
    "    title=\"Kolmogorov-Smirnov Curve\",\n",
    "    save_plot=False,\n",
    "    text_wrap=50,\n",
    "    curve_kwgs={\"linewidth\": 2},\n",
    "    linestyle_kwgs={\"color\": \"red\", \"linestyle\": \"--\", \"linewidth\": 2},\n",
    "    figsize=(8, 6),\n",
    "    label_fontsize=12,\n",
    "    tick_fontsize=10,\n",
    "    gridlines=True,\n",
    ")"
   ]
  },
  {
   "cell_type": "markdown",
   "metadata": {},
   "source": [
    "## Plot The Calibration Curve"
   ]
  },
  {
   "cell_type": "code",
   "execution_count": null,
   "metadata": {},
   "outputs": [],
   "source": [
    "# Plot calibration curves in overlay mode\n",
    "show_calibration_curve(\n",
    "    model=pipelines_or_models,\n",
    "    X=X_test,\n",
    "    y=y_test,\n",
    "    model_titles=model_titles,\n",
    "    overlay=True,\n",
    "    # title=\"Calibration Curves\",\n",
    "    text_wrap=40,\n",
    "    figsize=(10, 6),\n",
    "    label_fontsize=14,\n",
    "    tick_fontsize=9,\n",
    "    bins=10,\n",
    "    show_brier_score=True,\n",
    "    grid=False,\n",
    "    # gridlines=False,\n",
    "    linestyle_kwgs={\"color\": \"black\"},\n",
    ")"
   ]
  },
  {
   "cell_type": "markdown",
   "metadata": {},
   "source": [
    "## Plot The Confusion Matrix"
   ]
  },
  {
   "cell_type": "code",
   "execution_count": null,
   "metadata": {},
   "outputs": [],
   "source": [
    "show_confusion_matrix(\n",
    "    model=pipelines_or_models,\n",
    "    X=X_test,\n",
    "    y=y_test,\n",
    "    model_titles=model_titles,\n",
    "    cmap=\"Blues\",\n",
    "    text_wrap=40,\n",
    "    # title=\"Custom\",\n",
    "    save_plot=True,\n",
    "    image_path_png=image_path_png,\n",
    "    image_path_svg=image_path_svg,\n",
    "    grid=True,\n",
    "    n_cols=3,\n",
    "    n_rows=1,\n",
    "    figsize=(4, 4),\n",
    "    show_colorbar=False,\n",
    "    label_fontsize=14,\n",
    "    tick_fontsize=12,\n",
    "    inner_fontsize=10,\n",
    "    class_report=True,\n",
    "    # custom_threshold=0.5,\n",
    "    # labels=False,\n",
    ")"
   ]
  },
  {
   "cell_type": "markdown",
   "metadata": {},
   "source": [
    "## Plot ROC AUC Curve"
   ]
  },
  {
   "cell_type": "code",
   "execution_count": null,
   "metadata": {},
   "outputs": [],
   "source": [
    "# Plot ROC curves\n",
    "show_roc_curve(\n",
    "    models=pipelines_or_models,\n",
    "    X=X_test,\n",
    "    y=y_test,\n",
    "    overlay=False,\n",
    "    # title=\"Custom\",\n",
    "    title=None,\n",
    "    model_titles=model_titles,\n",
    "    decimal_places=3,\n",
    "    n_cols=3,\n",
    "    # n_rows=1,\n",
    "    # curve_kwgs={\n",
    "    #     \"Logistic Regression\": {\"color\": \"blue\", \"linewidth\": 2},\n",
    "    #     \"SVM\": {\"color\": \"red\", \"linestyle\": \"--\", \"linewidth\": 1.5},\n",
    "    # },\n",
    "    # linestyle_kwgs={\"color\": \"grey\", \"linestyle\": \"--\"},\n",
    "    save_plot=True,\n",
    "    grid=True,\n",
    "    figsize=(10, 4),\n",
    "    # label_fontsize=16,\n",
    "    # tick_fontsize=16,\n",
    "    image_path_png=image_path_png,\n",
    "    image_path_svg=image_path_svg,\n",
    "    # gridlines=False,\n",
    ")"
   ]
  },
  {
   "cell_type": "markdown",
   "metadata": {},
   "source": [
    "## Precision-Recall Curve"
   ]
  },
  {
   "cell_type": "code",
   "execution_count": null,
   "metadata": {},
   "outputs": [],
   "source": [
    "show_pr_curve(\n",
    "    models=pipelines_or_models,\n",
    "    X=X_test,\n",
    "    y=y_test,\n",
    "    # x_label=\"Hello\",\n",
    "    model_titles=model_titles,\n",
    "    decimal_places=3,\n",
    "    # title=\"Custom\",\n",
    "    overlay=False,\n",
    "    n_cols=3,\n",
    "    grid=True,\n",
    "    save_plot=True,\n",
    "    image_path_png=image_path_png,\n",
    "    image_path_svg=image_path_svg,\n",
    "    figsize=(10, 4),\n",
    "    # tick_fontsize=16,\n",
    "    # label_fontsize=16,\n",
    "    # grid=True,\n",
    "    # gridlines=False,\n",
    ")"
   ]
  },
  {
   "cell_type": "markdown",
   "metadata": {},
   "source": [
    "## Lift Chart"
   ]
  },
  {
   "cell_type": "code",
   "execution_count": null,
   "metadata": {},
   "outputs": [],
   "source": [
    "# Plot Lift chart\n",
    "show_lift_chart(\n",
    "    models=pipelines_or_models,\n",
    "    X=X_test,\n",
    "    y=y_test,\n",
    "    overlay=False,\n",
    "    # title=\"Custom\",\n",
    "    model_titles=model_titles,\n",
    "    save_plot=True,\n",
    "    # curve_kwgs={\n",
    "    #     \"Logistic Regression\": {\"color\": \"blue\", \"linewidth\": 2},\n",
    "    #     # \"SVM\": {\"color\": \"red\", \"linestyle\": \"--\", \"linewidth\": 1.5},\n",
    "    # },\n",
    "    linestyle_kwgs={\"color\": \"grey\", \"linestyle\": \"--\"},\n",
    "    grid=True,\n",
    "    n_cols=3,\n",
    "    figsize=(10, 4),\n",
    "    image_path_png=image_path_png,\n",
    "    image_path_svg=image_path_svg,\n",
    ")"
   ]
  },
  {
   "cell_type": "markdown",
   "metadata": {},
   "source": [
    "## Gain Chart"
   ]
  },
  {
   "cell_type": "code",
   "execution_count": null,
   "metadata": {},
   "outputs": [],
   "source": [
    "# Plot Gain chart\n",
    "show_gain_chart(\n",
    "    models=pipelines_or_models,\n",
    "    X=X_test,\n",
    "    y=y_test,\n",
    "    overlay=False,\n",
    "    # title=\"Custom\",\n",
    "    model_titles=model_titles,\n",
    "    # curve_kwgs={\n",
    "    #     \"Logistic Regression\": {\"color\": \"blue\", \"linewidth\": 2},\n",
    "    #     # \"SVM\": {\"color\": \"red\", \"linestyle\": \"--\", \"linewidth\": 1.5},\n",
    "    # },\n",
    "    # linestyle_kwgs={\"color\": \"black\", \"linestyle\": \"-\"},\n",
    "    save_plot=True,\n",
    "    grid=True,\n",
    "    n_cols=3,\n",
    "    figsize=(10, 4),\n",
    "    image_path_png=image_path_png,\n",
    "    image_path_svg=image_path_svg,\n",
    ")"
   ]
  }
 ],
 "metadata": {
  "kernelspec": {
   "display_name": "metrics_venv",
   "language": "python",
   "name": "python3"
  },
  "language_info": {
   "codemirror_mode": {
    "name": "ipython",
    "version": 3
   },
   "file_extension": ".py",
   "mimetype": "text/x-python",
   "name": "python",
   "nbconvert_exporter": "python",
   "pygments_lexer": "ipython3",
   "version": "3.11.11"
  }
 },
 "nbformat": 4,
 "nbformat_minor": 2
}
